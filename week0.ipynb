{
 "cells": [
  {
   "attachments": {},
   "cell_type": "markdown",
   "metadata": {},
   "source": [
    "Question 1"
   ]
  },
  {
   "cell_type": "code",
   "execution_count": 1,
   "metadata": {},
   "outputs": [],
   "source": [
    "import numpy as np\n",
    "import pandas as pd\n",
    "import matplotlib.pyplot as plt\n",
    "import tensorflow"
   ]
  },
  {
   "cell_type": "code",
   "execution_count": 2,
   "metadata": {},
   "outputs": [
    {
     "data": {
      "text/html": [
       "<div>\n",
       "<style scoped>\n",
       "    .dataframe tbody tr th:only-of-type {\n",
       "        vertical-align: middle;\n",
       "    }\n",
       "\n",
       "    .dataframe tbody tr th {\n",
       "        vertical-align: top;\n",
       "    }\n",
       "\n",
       "    .dataframe thead th {\n",
       "        text-align: right;\n",
       "    }\n",
       "</style>\n",
       "<table border=\"1\" class=\"dataframe\">\n",
       "  <thead>\n",
       "    <tr style=\"text-align: right;\">\n",
       "      <th></th>\n",
       "      <th>Posted On</th>\n",
       "      <th>BHK</th>\n",
       "      <th>Rent</th>\n",
       "      <th>Size</th>\n",
       "      <th>Floor</th>\n",
       "      <th>Area Type</th>\n",
       "      <th>Area Locality</th>\n",
       "      <th>City</th>\n",
       "      <th>Furnishing Status</th>\n",
       "      <th>Tenant Preferred</th>\n",
       "      <th>Bathroom</th>\n",
       "      <th>Point of Contact</th>\n",
       "    </tr>\n",
       "  </thead>\n",
       "  <tbody>\n",
       "    <tr>\n",
       "      <th>0</th>\n",
       "      <td>2022-05-18</td>\n",
       "      <td>2</td>\n",
       "      <td>10000</td>\n",
       "      <td>1100</td>\n",
       "      <td>Ground out of 2</td>\n",
       "      <td>Super Area</td>\n",
       "      <td>Bandel</td>\n",
       "      <td>Kolkata</td>\n",
       "      <td>Unfurnished</td>\n",
       "      <td>Bachelors/Family</td>\n",
       "      <td>2</td>\n",
       "      <td>Contact Owner</td>\n",
       "    </tr>\n",
       "    <tr>\n",
       "      <th>1</th>\n",
       "      <td>2022-05-13</td>\n",
       "      <td>2</td>\n",
       "      <td>20000</td>\n",
       "      <td>800</td>\n",
       "      <td>1 out of 3</td>\n",
       "      <td>Super Area</td>\n",
       "      <td>Phool Bagan, Kankurgachi</td>\n",
       "      <td>Kolkata</td>\n",
       "      <td>Semi-Furnished</td>\n",
       "      <td>Bachelors/Family</td>\n",
       "      <td>1</td>\n",
       "      <td>Contact Owner</td>\n",
       "    </tr>\n",
       "    <tr>\n",
       "      <th>2</th>\n",
       "      <td>2022-05-16</td>\n",
       "      <td>2</td>\n",
       "      <td>17000</td>\n",
       "      <td>1000</td>\n",
       "      <td>1 out of 3</td>\n",
       "      <td>Super Area</td>\n",
       "      <td>Salt Lake City Sector 2</td>\n",
       "      <td>Kolkata</td>\n",
       "      <td>Semi-Furnished</td>\n",
       "      <td>Bachelors/Family</td>\n",
       "      <td>1</td>\n",
       "      <td>Contact Owner</td>\n",
       "    </tr>\n",
       "    <tr>\n",
       "      <th>3</th>\n",
       "      <td>2022-07-04</td>\n",
       "      <td>2</td>\n",
       "      <td>10000</td>\n",
       "      <td>800</td>\n",
       "      <td>1 out of 2</td>\n",
       "      <td>Super Area</td>\n",
       "      <td>Dumdum Park</td>\n",
       "      <td>Kolkata</td>\n",
       "      <td>Unfurnished</td>\n",
       "      <td>Bachelors/Family</td>\n",
       "      <td>1</td>\n",
       "      <td>Contact Owner</td>\n",
       "    </tr>\n",
       "    <tr>\n",
       "      <th>4</th>\n",
       "      <td>2022-05-09</td>\n",
       "      <td>2</td>\n",
       "      <td>7500</td>\n",
       "      <td>850</td>\n",
       "      <td>1 out of 2</td>\n",
       "      <td>Carpet Area</td>\n",
       "      <td>South Dum Dum</td>\n",
       "      <td>Kolkata</td>\n",
       "      <td>Unfurnished</td>\n",
       "      <td>Bachelors</td>\n",
       "      <td>1</td>\n",
       "      <td>Contact Owner</td>\n",
       "    </tr>\n",
       "  </tbody>\n",
       "</table>\n",
       "</div>"
      ],
      "text/plain": [
       "    Posted On  BHK   Rent  Size            Floor    Area Type   \n",
       "0  2022-05-18    2  10000  1100  Ground out of 2   Super Area  \\\n",
       "1  2022-05-13    2  20000   800       1 out of 3   Super Area   \n",
       "2  2022-05-16    2  17000  1000       1 out of 3   Super Area   \n",
       "3  2022-07-04    2  10000   800       1 out of 2   Super Area   \n",
       "4  2022-05-09    2   7500   850       1 out of 2  Carpet Area   \n",
       "\n",
       "              Area Locality     City Furnishing Status  Tenant Preferred   \n",
       "0                    Bandel  Kolkata       Unfurnished  Bachelors/Family  \\\n",
       "1  Phool Bagan, Kankurgachi  Kolkata    Semi-Furnished  Bachelors/Family   \n",
       "2   Salt Lake City Sector 2  Kolkata    Semi-Furnished  Bachelors/Family   \n",
       "3               Dumdum Park  Kolkata       Unfurnished  Bachelors/Family   \n",
       "4             South Dum Dum  Kolkata       Unfurnished         Bachelors   \n",
       "\n",
       "   Bathroom Point of Contact  \n",
       "0         2    Contact Owner  \n",
       "1         1    Contact Owner  \n",
       "2         1    Contact Owner  \n",
       "3         1    Contact Owner  \n",
       "4         1    Contact Owner  "
      ]
     },
     "execution_count": 2,
     "metadata": {},
     "output_type": "execute_result"
    }
   ],
   "source": [
    "df_que1 = pd.read_csv(\"House_Rent_Dataset.csv\")\n",
    "df_que1.head()"
   ]
  },
  {
   "cell_type": "code",
   "execution_count": 3,
   "metadata": {},
   "outputs": [],
   "source": [
    "df_que1 =  df_que1.drop(['Posted On', \"Floor\", \"Area Type\", \"Area Locality\", \"City\", \"Tenant Preferred\", \"Point of Contact\"], axis=1)"
   ]
  },
  {
   "cell_type": "code",
   "execution_count": 4,
   "metadata": {},
   "outputs": [
    {
     "data": {
      "text/html": [
       "<div>\n",
       "<style scoped>\n",
       "    .dataframe tbody tr th:only-of-type {\n",
       "        vertical-align: middle;\n",
       "    }\n",
       "\n",
       "    .dataframe tbody tr th {\n",
       "        vertical-align: top;\n",
       "    }\n",
       "\n",
       "    .dataframe thead th {\n",
       "        text-align: right;\n",
       "    }\n",
       "</style>\n",
       "<table border=\"1\" class=\"dataframe\">\n",
       "  <thead>\n",
       "    <tr style=\"text-align: right;\">\n",
       "      <th></th>\n",
       "      <th>BHK</th>\n",
       "      <th>Rent</th>\n",
       "      <th>Size</th>\n",
       "      <th>Furnishing Status</th>\n",
       "      <th>Bathroom</th>\n",
       "    </tr>\n",
       "  </thead>\n",
       "  <tbody>\n",
       "    <tr>\n",
       "      <th>0</th>\n",
       "      <td>2</td>\n",
       "      <td>10000</td>\n",
       "      <td>1100</td>\n",
       "      <td>Unfurnished</td>\n",
       "      <td>2</td>\n",
       "    </tr>\n",
       "    <tr>\n",
       "      <th>1</th>\n",
       "      <td>2</td>\n",
       "      <td>20000</td>\n",
       "      <td>800</td>\n",
       "      <td>Semi-Furnished</td>\n",
       "      <td>1</td>\n",
       "    </tr>\n",
       "    <tr>\n",
       "      <th>2</th>\n",
       "      <td>2</td>\n",
       "      <td>17000</td>\n",
       "      <td>1000</td>\n",
       "      <td>Semi-Furnished</td>\n",
       "      <td>1</td>\n",
       "    </tr>\n",
       "    <tr>\n",
       "      <th>3</th>\n",
       "      <td>2</td>\n",
       "      <td>10000</td>\n",
       "      <td>800</td>\n",
       "      <td>Unfurnished</td>\n",
       "      <td>1</td>\n",
       "    </tr>\n",
       "    <tr>\n",
       "      <th>4</th>\n",
       "      <td>2</td>\n",
       "      <td>7500</td>\n",
       "      <td>850</td>\n",
       "      <td>Unfurnished</td>\n",
       "      <td>1</td>\n",
       "    </tr>\n",
       "  </tbody>\n",
       "</table>\n",
       "</div>"
      ],
      "text/plain": [
       "   BHK   Rent  Size Furnishing Status  Bathroom\n",
       "0    2  10000  1100       Unfurnished         2\n",
       "1    2  20000   800    Semi-Furnished         1\n",
       "2    2  17000  1000    Semi-Furnished         1\n",
       "3    2  10000   800       Unfurnished         1\n",
       "4    2   7500   850       Unfurnished         1"
      ]
     },
     "execution_count": 4,
     "metadata": {},
     "output_type": "execute_result"
    }
   ],
   "source": [
    "df_que1.head()"
   ]
  },
  {
   "cell_type": "code",
   "execution_count": 5,
   "metadata": {},
   "outputs": [
    {
     "data": {
      "text/plain": [
       "array(['Unfurnished', 'Semi-Furnished', 'Furnished'], dtype=object)"
      ]
     },
     "execution_count": 5,
     "metadata": {},
     "output_type": "execute_result"
    }
   ],
   "source": [
    "df_que1[\"Furnishing Status\"].unique()"
   ]
  },
  {
   "cell_type": "code",
   "execution_count": 6,
   "metadata": {},
   "outputs": [],
   "source": [
    "df_que1['Furnishing Status'] = df_que1['Furnishing Status'].replace(['Unfurnished'],'0')\n",
    "df_que1['Furnishing Status'] = df_que1['Furnishing Status'].replace(['Semi-Furnished'],'1')\n",
    "df_que1['Furnishing Status'] = df_que1['Furnishing Status'].replace(['Furnished'],'2')\n",
    "df_que1['Furnishing Status'] = df_que1['Furnishing Status'].astype('int')"
   ]
  },
  {
   "cell_type": "code",
   "execution_count": 7,
   "metadata": {},
   "outputs": [
    {
     "data": {
      "text/plain": [
       "<matplotlib.collections.PathCollection at 0x235cef35d50>"
      ]
     },
     "execution_count": 7,
     "metadata": {},
     "output_type": "execute_result"
    },
    {
     "data": {
      "image/png": "[encoded data removed]",
      "text/plain": [
       "<Figure size 640x480 with 1 Axes>"
      ]
     },
     "metadata": {},
     "output_type": "display_data"
    }
   ],
   "source": [
    "size = df_que1[[\"Size\"]].loc[df_que1[\"Rent\"] < 200000]\n",
    "rent = df_que1[\"Rent\"].loc[df_que1[\"Rent\"] < 200000]\n",
    "\n",
    "plt.scatter(size,rent)"
   ]
  },
  {
   "cell_type": "code",
   "execution_count": 8,
   "metadata": {},
   "outputs": [],
   "source": [
    "features = df_que1[[\"Size\", \"Furnishing Status\", \"Bathroom\"]].loc[df_que1[\"Rent\"] < 200000]\n",
    "target = df_que1[\"Rent\"].loc[df_que1[\"Rent\"] < 200000]\n",
    "target = np.array(target)"
   ]
  },
  {
   "cell_type": "code",
   "execution_count": 9,
   "metadata": {},
   "outputs": [
    {
     "data": {
      "text/plain": [
       "(4632, 3)"
      ]
     },
     "execution_count": 9,
     "metadata": {},
     "output_type": "execute_result"
    }
   ],
   "source": [
    "features = np.array(features)\n",
    "features.shape"
   ]
  },
  {
   "cell_type": "code",
   "execution_count": 10,
   "metadata": {},
   "outputs": [],
   "source": [
    "model = tensorflow.keras.Sequential([\n",
    "    tensorflow.keras.layers.Dense(256,input_shape = (3,)),\n",
    "    tensorflow.keras.layers.Dense(128,activation= 'relu'),\n",
    "    tensorflow.keras.layers.Dropout(0.4),\n",
    "    tensorflow.keras.layers.Dense(64,activation= 'relu'),\n",
    "    tensorflow.keras.layers.Dense(32,activation= 'relu'),\n",
    "    tensorflow.keras.layers.Dropout(0.2),\n",
    "    tensorflow.keras.layers.Dense(16,activation= 'relu'),\n",
    "    tensorflow.keras.layers.Dense(1,activation= 'relu'),\n",
    "])"
   ]
  },
  {
   "cell_type": "code",
   "execution_count": 11,
   "metadata": {},
   "outputs": [],
   "source": [
    "model.compile(loss =\"mae\",optimizer=tensorflow.keras.optimizers.Adam())"
   ]
  },
  {
   "cell_type": "code",
   "execution_count": 12,
   "metadata": {},
   "outputs": [
    {
     "name": "stderr",
     "output_type": "stream",
     "text": [
      "C:\\Users\\ishaa\\AppData\\Local\\Temp\\ipykernel_14556\\2389158996.py:1: DeprecationWarning: `np.int` is a deprecated alias for the builtin `int`. To silence this warning, use `int` by itself. Doing this will not modify any behavior and is safe. When replacing `np.int`, you may wish to use e.g. `np.int64` or `np.int32` to specify the precision. If you wish to review your current use, check the release note link for additional information.\n",
      "Deprecated in NumPy 1.20; for more details and guidance: https://numpy.org/devdocs/release/1.20.0-notes.html#deprecations\n",
      "  feaatures = np.asarray(features).astype(np.int)\n"
     ]
    }
   ],
   "source": [
    "feaatures = np.asarray(features).astype(np.int)"
   ]
  },
  {
   "cell_type": "code",
   "execution_count": 13,
   "metadata": {},
   "outputs": [
    {
     "name": "stdout",
     "output_type": "stream",
     "text": [
      "Epoch 1/100\n",
      "58/58 [==============================] - 2s 8ms/step - loss: 22555.8457 - val_loss: 7489.0981\n",
      "Epoch 2/100\n",
      "58/58 [==============================] - 0s 4ms/step - loss: 17412.7793 - val_loss: 8777.3809\n",
      "Epoch 3/100\n",
      "58/58 [==============================] - 0s 4ms/step - loss: 17425.9395 - val_loss: 8048.3628\n",
      "Epoch 4/100\n",
      "58/58 [==============================] - 0s 4ms/step - loss: 17404.2285 - val_loss: 8477.9863\n",
      "Epoch 5/100\n",
      "58/58 [==============================] - 0s 4ms/step - loss: 17343.0605 - val_loss: 8824.3486\n",
      "Epoch 6/100\n",
      "58/58 [==============================] - 0s 5ms/step - loss: 17371.6309 - val_loss: 8607.6279\n",
      "Epoch 7/100\n",
      "58/58 [==============================] - 0s 4ms/step - loss: 17365.4883 - val_loss: 8093.4849\n",
      "Epoch 8/100\n",
      "58/58 [==============================] - 0s 5ms/step - loss: 17464.3691 - val_loss: 10653.3887\n",
      "Epoch 9/100\n",
      "58/58 [==============================] - 0s 4ms/step - loss: 17320.2402 - val_loss: 8457.0020\n",
      "Epoch 10/100\n",
      "58/58 [==============================] - 0s 5ms/step - loss: 17288.5391 - val_loss: 8634.8975\n",
      "Epoch 11/100\n",
      "58/58 [==============================] - 0s 4ms/step - loss: 17371.7422 - val_loss: 8925.8291\n",
      "Epoch 12/100\n",
      "58/58 [==============================] - 0s 4ms/step - loss: 17380.8613 - val_loss: 7268.8320\n",
      "Epoch 13/100\n",
      "58/58 [==============================] - 0s 4ms/step - loss: 17361.7773 - val_loss: 7760.6411\n",
      "Epoch 14/100\n",
      "58/58 [==============================] - 0s 4ms/step - loss: 17441.5586 - val_loss: 7534.5874\n",
      "Epoch 15/100\n",
      "58/58 [==============================] - 0s 4ms/step - loss: 17254.1641 - val_loss: 8298.2959\n",
      "Epoch 16/100\n",
      "58/58 [==============================] - 0s 4ms/step - loss: 17279.2168 - val_loss: 9854.1445\n",
      "Epoch 17/100\n",
      "58/58 [==============================] - 0s 4ms/step - loss: 17322.1777 - val_loss: 7268.7388\n",
      "Epoch 18/100\n",
      "58/58 [==============================] - 0s 4ms/step - loss: 17224.5664 - val_loss: 7892.3613\n",
      "Epoch 19/100\n",
      "58/58 [==============================] - 0s 4ms/step - loss: 17293.1641 - val_loss: 8450.6670\n",
      "Epoch 20/100\n",
      "58/58 [==============================] - 0s 4ms/step - loss: 17329.9258 - val_loss: 7814.4648\n",
      "Epoch 21/100\n",
      "58/58 [==============================] - 0s 4ms/step - loss: 17380.0234 - val_loss: 7240.8511\n",
      "Epoch 22/100\n",
      "58/58 [==============================] - 0s 4ms/step - loss: 17266.5801 - val_loss: 7232.4360\n",
      "Epoch 23/100\n",
      "58/58 [==============================] - 0s 4ms/step - loss: 17315.6836 - val_loss: 7997.2822\n",
      "Epoch 24/100\n",
      "58/58 [==============================] - 0s 4ms/step - loss: 17246.7188 - val_loss: 7574.6035\n",
      "Epoch 25/100\n",
      "58/58 [==============================] - 0s 4ms/step - loss: 17222.2734 - val_loss: 7034.8477\n",
      "Epoch 26/100\n",
      "58/58 [==============================] - 0s 4ms/step - loss: 17187.9707 - val_loss: 7231.0029\n",
      "Epoch 27/100\n",
      "58/58 [==============================] - 0s 4ms/step - loss: 17134.6621 - val_loss: 8063.6123\n",
      "Epoch 28/100\n",
      "58/58 [==============================] - 0s 4ms/step - loss: 17167.8906 - val_loss: 7161.2852\n",
      "Epoch 29/100\n",
      "58/58 [==============================] - 0s 4ms/step - loss: 17139.0254 - val_loss: 7392.8354\n",
      "Epoch 30/100\n",
      "58/58 [==============================] - 0s 4ms/step - loss: 17128.5000 - val_loss: 7280.6406\n",
      "Epoch 31/100\n",
      "58/58 [==============================] - 0s 4ms/step - loss: 17206.8867 - val_loss: 7206.5918\n",
      "Epoch 32/100\n",
      "58/58 [==============================] - 0s 4ms/step - loss: 17139.8613 - val_loss: 7628.1357\n",
      "Epoch 33/100\n",
      "58/58 [==============================] - 0s 4ms/step - loss: 17102.0449 - val_loss: 7022.6963\n",
      "Epoch 34/100\n",
      "58/58 [==============================] - 0s 4ms/step - loss: 17207.0625 - val_loss: 7198.2778\n",
      "Epoch 35/100\n",
      "58/58 [==============================] - 0s 4ms/step - loss: 17056.4785 - val_loss: 7187.0308\n",
      "Epoch 36/100\n",
      "58/58 [==============================] - 0s 4ms/step - loss: 17102.0117 - val_loss: 7781.7744\n",
      "Epoch 37/100\n",
      "58/58 [==============================] - 0s 4ms/step - loss: 17062.3281 - val_loss: 6993.9482\n",
      "Epoch 38/100\n",
      "58/58 [==============================] - 0s 4ms/step - loss: 17037.5898 - val_loss: 6986.0610\n",
      "Epoch 39/100\n",
      "58/58 [==============================] - 0s 4ms/step - loss: 17034.8262 - val_loss: 7087.3906\n",
      "Epoch 40/100\n",
      "58/58 [==============================] - 0s 4ms/step - loss: 17032.0527 - val_loss: 7043.7021\n",
      "Epoch 41/100\n",
      "58/58 [==============================] - 0s 4ms/step - loss: 16975.9141 - val_loss: 6998.2207\n",
      "Epoch 42/100\n",
      "58/58 [==============================] - 0s 4ms/step - loss: 16876.1406 - val_loss: 7079.7280\n",
      "Epoch 43/100\n",
      "58/58 [==============================] - 0s 4ms/step - loss: 16908.3828 - val_loss: 7251.8564\n",
      "Epoch 44/100\n",
      "58/58 [==============================] - 0s 4ms/step - loss: 16844.1289 - val_loss: 6860.0942\n",
      "Epoch 45/100\n",
      "58/58 [==============================] - 0s 4ms/step - loss: 16865.3672 - val_loss: 7095.3491\n",
      "Epoch 46/100\n",
      "58/58 [==============================] - 0s 4ms/step - loss: 16749.4570 - val_loss: 7862.8013\n",
      "Epoch 47/100\n",
      "58/58 [==============================] - 0s 4ms/step - loss: 16592.8477 - val_loss: 7882.8638\n",
      "Epoch 48/100\n",
      "58/58 [==============================] - 0s 4ms/step - loss: 16667.9473 - val_loss: 7596.7202\n",
      "Epoch 49/100\n",
      "58/58 [==============================] - 0s 4ms/step - loss: 16574.0176 - val_loss: 7763.3247\n",
      "Epoch 50/100\n",
      "58/58 [==============================] - 0s 4ms/step - loss: 16589.5938 - val_loss: 7259.5933\n",
      "Epoch 51/100\n",
      "58/58 [==============================] - 0s 4ms/step - loss: 16436.4004 - val_loss: 6912.3638\n",
      "Epoch 52/100\n",
      "58/58 [==============================] - 0s 4ms/step - loss: 16527.1953 - val_loss: 6850.2207\n",
      "Epoch 53/100\n",
      "58/58 [==============================] - 0s 4ms/step - loss: 16414.0273 - val_loss: 7287.5054\n",
      "Epoch 54/100\n",
      "58/58 [==============================] - 0s 4ms/step - loss: 16620.3027 - val_loss: 7055.6226\n",
      "Epoch 55/100\n",
      "58/58 [==============================] - 0s 4ms/step - loss: 16472.1758 - val_loss: 7700.9688\n",
      "Epoch 56/100\n",
      "58/58 [==============================] - 0s 4ms/step - loss: 16393.9473 - val_loss: 6892.0322\n",
      "Epoch 57/100\n",
      "58/58 [==============================] - 0s 4ms/step - loss: 16472.7695 - val_loss: 7301.2988\n",
      "Epoch 58/100\n",
      "58/58 [==============================] - 0s 4ms/step - loss: 16433.5879 - val_loss: 6792.0996\n",
      "Epoch 59/100\n",
      "58/58 [==============================] - 0s 4ms/step - loss: 16373.9980 - val_loss: 7302.9424\n",
      "Epoch 60/100\n",
      "58/58 [==============================] - 0s 5ms/step - loss: 16317.0781 - val_loss: 6896.2134\n",
      "Epoch 61/100\n",
      "58/58 [==============================] - 0s 4ms/step - loss: 16351.3262 - val_loss: 6876.8394\n",
      "Epoch 62/100\n",
      "58/58 [==============================] - 0s 4ms/step - loss: 16240.6318 - val_loss: 7315.1768\n",
      "Epoch 63/100\n",
      "58/58 [==============================] - 0s 4ms/step - loss: 16266.8271 - val_loss: 7034.1187\n",
      "Epoch 64/100\n",
      "58/58 [==============================] - 0s 4ms/step - loss: 16289.7920 - val_loss: 7062.6655\n",
      "Epoch 65/100\n",
      "58/58 [==============================] - 0s 4ms/step - loss: 16297.9912 - val_loss: 7052.7339\n",
      "Epoch 66/100\n",
      "58/58 [==============================] - 0s 4ms/step - loss: 16336.6377 - val_loss: 6895.9756\n",
      "Epoch 67/100\n",
      "58/58 [==============================] - 0s 4ms/step - loss: 16187.5234 - val_loss: 6938.7632\n",
      "Epoch 68/100\n",
      "58/58 [==============================] - 0s 4ms/step - loss: 16187.6299 - val_loss: 7538.8701\n",
      "Epoch 69/100\n",
      "58/58 [==============================] - 0s 4ms/step - loss: 16167.7666 - val_loss: 7055.5132\n",
      "Epoch 70/100\n",
      "58/58 [==============================] - 0s 4ms/step - loss: 16133.4131 - val_loss: 7010.4727\n",
      "Epoch 71/100\n",
      "58/58 [==============================] - 0s 4ms/step - loss: 16256.2754 - val_loss: 7318.3433\n",
      "Epoch 72/100\n",
      "58/58 [==============================] - 0s 4ms/step - loss: 16258.2598 - val_loss: 7183.8955\n",
      "Epoch 73/100\n",
      "58/58 [==============================] - 0s 4ms/step - loss: 16164.6143 - val_loss: 7199.6445\n",
      "Epoch 74/100\n",
      "58/58 [==============================] - 0s 4ms/step - loss: 16178.1992 - val_loss: 7247.9067\n",
      "Epoch 75/100\n",
      "58/58 [==============================] - 0s 4ms/step - loss: 16133.9443 - val_loss: 7170.7300\n",
      "Epoch 76/100\n",
      "58/58 [==============================] - 0s 4ms/step - loss: 16112.0615 - val_loss: 7292.4385\n",
      "Epoch 77/100\n",
      "58/58 [==============================] - 0s 4ms/step - loss: 16139.6143 - val_loss: 7154.1489\n",
      "Epoch 78/100\n",
      "58/58 [==============================] - 0s 4ms/step - loss: 16083.9668 - val_loss: 7181.9229\n",
      "Epoch 79/100\n",
      "58/58 [==============================] - 0s 4ms/step - loss: 16065.7227 - val_loss: 7617.5938\n",
      "Epoch 80/100\n",
      "58/58 [==============================] - 0s 4ms/step - loss: 16002.1162 - val_loss: 7230.0713\n",
      "Epoch 81/100\n",
      "58/58 [==============================] - 0s 4ms/step - loss: 16071.6221 - val_loss: 7038.5166\n",
      "Epoch 82/100\n",
      "58/58 [==============================] - 0s 4ms/step - loss: 16044.0244 - val_loss: 7109.3911\n",
      "Epoch 83/100\n",
      "58/58 [==============================] - 0s 4ms/step - loss: 16121.0820 - val_loss: 7040.4746\n",
      "Epoch 84/100\n",
      "58/58 [==============================] - 0s 4ms/step - loss: 16030.4551 - val_loss: 7268.3237\n",
      "Epoch 85/100\n",
      "58/58 [==============================] - 0s 4ms/step - loss: 16121.9219 - val_loss: 7060.0146\n",
      "Epoch 86/100\n",
      "58/58 [==============================] - 0s 4ms/step - loss: 16109.9219 - val_loss: 7127.7305\n",
      "Epoch 87/100\n",
      "58/58 [==============================] - 0s 4ms/step - loss: 15946.9590 - val_loss: 7241.7300\n",
      "Epoch 88/100\n",
      "58/58 [==============================] - 0s 4ms/step - loss: 16000.2373 - val_loss: 7122.0649\n",
      "Epoch 89/100\n",
      "58/58 [==============================] - 0s 4ms/step - loss: 15934.8994 - val_loss: 7580.8130\n",
      "Epoch 90/100\n",
      "58/58 [==============================] - 0s 4ms/step - loss: 15981.2383 - val_loss: 7454.0444\n",
      "Epoch 91/100\n",
      "58/58 [==============================] - 0s 4ms/step - loss: 15896.1436 - val_loss: 7193.3643\n",
      "Epoch 92/100\n",
      "58/58 [==============================] - 0s 4ms/step - loss: 15940.9141 - val_loss: 7298.2793\n",
      "Epoch 93/100\n",
      "58/58 [==============================] - 0s 4ms/step - loss: 15862.1250 - val_loss: 7778.1860\n",
      "Epoch 94/100\n",
      "58/58 [==============================] - 0s 4ms/step - loss: 15910.2900 - val_loss: 7779.6763\n",
      "Epoch 95/100\n",
      "58/58 [==============================] - 0s 4ms/step - loss: 15894.9189 - val_loss: 7447.8301\n",
      "Epoch 96/100\n",
      "58/58 [==============================] - 0s 4ms/step - loss: 15960.4023 - val_loss: 7770.4360\n",
      "Epoch 97/100\n",
      "58/58 [==============================] - 0s 4ms/step - loss: 15894.6729 - val_loss: 7269.4038\n",
      "Epoch 98/100\n",
      "58/58 [==============================] - 0s 4ms/step - loss: 15935.4648 - val_loss: 7254.9053\n",
      "Epoch 99/100\n",
      "58/58 [==============================] - 0s 4ms/step - loss: 15958.4746 - val_loss: 7095.3159\n",
      "Epoch 100/100\n",
      "58/58 [==============================] - 0s 4ms/step - loss: 15970.1455 - val_loss: 7397.1904\n"
     ]
    },
    {
     "data": {
      "text/plain": [
       "<keras.callbacks.History at 0x235d10b6800>"
      ]
     },
     "execution_count": 13,
     "metadata": {},
     "output_type": "execute_result"
    }
   ],
   "source": [
    "model.fit(features,target,batch_size=64,shuffle=True,verbose=1,epochs=100,validation_split=0.2)"
   ]
  },
  {
   "attachments": {},
   "cell_type": "markdown",
   "metadata": {},
   "source": [
    "Question 2"
   ]
  },
  {
   "cell_type": "code",
   "execution_count": 14,
   "metadata": {},
   "outputs": [
    {
     "data": {
      "text/html": [
       "<div>\n",
       "<style scoped>\n",
       "    .dataframe tbody tr th:only-of-type {\n",
       "        vertical-align: middle;\n",
       "    }\n",
       "\n",
       "    .dataframe tbody tr th {\n",
       "        vertical-align: top;\n",
       "    }\n",
       "\n",
       "    .dataframe thead th {\n",
       "        text-align: right;\n",
       "    }\n",
       "</style>\n",
       "<table border=\"1\" class=\"dataframe\">\n",
       "  <thead>\n",
       "    <tr style=\"text-align: right;\">\n",
       "      <th></th>\n",
       "      <th>x</th>\n",
       "      <th>y</th>\n",
       "      <th>color</th>\n",
       "    </tr>\n",
       "  </thead>\n",
       "  <tbody>\n",
       "    <tr>\n",
       "      <th>0</th>\n",
       "      <td>-4.956506</td>\n",
       "      <td>25.706334</td>\n",
       "      <td>0.0</td>\n",
       "    </tr>\n",
       "    <tr>\n",
       "      <th>1</th>\n",
       "      <td>2.897218</td>\n",
       "      <td>10.359784</td>\n",
       "      <td>0.0</td>\n",
       "    </tr>\n",
       "    <tr>\n",
       "      <th>2</th>\n",
       "      <td>-4.488273</td>\n",
       "      <td>22.113311</td>\n",
       "      <td>0.0</td>\n",
       "    </tr>\n",
       "    <tr>\n",
       "      <th>3</th>\n",
       "      <td>3.823152</td>\n",
       "      <td>15.665060</td>\n",
       "      <td>0.0</td>\n",
       "    </tr>\n",
       "    <tr>\n",
       "      <th>4</th>\n",
       "      <td>4.425201</td>\n",
       "      <td>21.118726</td>\n",
       "      <td>0.0</td>\n",
       "    </tr>\n",
       "  </tbody>\n",
       "</table>\n",
       "</div>"
      ],
      "text/plain": [
       "          x          y  color\n",
       "0 -4.956506  25.706334    0.0\n",
       "1  2.897218  10.359784    0.0\n",
       "2 -4.488273  22.113311    0.0\n",
       "3  3.823152  15.665060    0.0\n",
       "4  4.425201  21.118726    0.0"
      ]
     },
     "execution_count": 14,
     "metadata": {},
     "output_type": "execute_result"
    }
   ],
   "source": [
    "df_que2 = pd.read_csv(\"train2.csv\")\n",
    "df_que2.head()"
   ]
  },
  {
   "cell_type": "code",
   "execution_count": 15,
   "metadata": {},
   "outputs": [
    {
     "data": {
      "text/plain": [
       "array([-4.95650637, 25.70633379])"
      ]
     },
     "execution_count": 15,
     "metadata": {},
     "output_type": "execute_result"
    }
   ],
   "source": [
    "x_train2 = df_que2[[\"x\", \"y\"]]\n",
    "y_train2 = df_que2[[\"color\"]]\n",
    "x_train2 = np.array(x_train2)\n",
    "x_train2[0]"
   ]
  },
  {
   "cell_type": "code",
   "execution_count": 16,
   "metadata": {},
   "outputs": [],
   "source": [
    "model2 = tensorflow.keras.Sequential([\n",
    "    tensorflow.keras.layers.Dense(64,input_shape = (2,)),\n",
    "    tensorflow.keras.layers.Dense(32,activation= 'relu'),\n",
    "    tensorflow.keras.layers.Dropout(0.3),\n",
    "    tensorflow.keras.layers.Dense(16,activation= 'relu'),\n",
    "    tensorflow.keras.layers.Dense(1,activation= 'sigmoid'),  \n",
    "])"
   ]
  },
  {
   "cell_type": "code",
   "execution_count": 17,
   "metadata": {},
   "outputs": [],
   "source": [
    "model2.compile(loss =\"binary_crossentropy\",optimizer=tensorflow.keras.optimizers.Adam())"
   ]
  },
  {
   "cell_type": "code",
   "execution_count": 18,
   "metadata": {},
   "outputs": [
    {
     "name": "stdout",
     "output_type": "stream",
     "text": [
      "Epoch 1/10\n",
      "50/50 [==============================] - 1s 5ms/step - loss: 0.6131 - val_loss: 0.8293\n",
      "Epoch 2/10\n",
      "50/50 [==============================] - 0s 2ms/step - loss: 0.5485 - val_loss: 0.6823\n",
      "Epoch 3/10\n",
      "50/50 [==============================] - 0s 2ms/step - loss: 0.5067 - val_loss: 0.6778\n",
      "Epoch 4/10\n",
      "50/50 [==============================] - 0s 2ms/step - loss: 0.4796 - val_loss: 0.5708\n",
      "Epoch 5/10\n",
      "50/50 [==============================] - 0s 2ms/step - loss: 0.4488 - val_loss: 0.5625\n",
      "Epoch 6/10\n",
      "50/50 [==============================] - 0s 2ms/step - loss: 0.4051 - val_loss: 0.5171\n",
      "Epoch 7/10\n",
      "50/50 [==============================] - 0s 2ms/step - loss: 0.3642 - val_loss: 0.4837\n",
      "Epoch 8/10\n",
      "50/50 [==============================] - 0s 2ms/step - loss: 0.3218 - val_loss: 0.3358\n",
      "Epoch 9/10\n",
      "50/50 [==============================] - 0s 2ms/step - loss: 0.2822 - val_loss: 0.5157\n",
      "Epoch 10/10\n",
      "50/50 [==============================] - 0s 2ms/step - loss: 0.2581 - val_loss: 0.3918\n"
     ]
    },
    {
     "data": {
      "text/plain": [
       "<keras.callbacks.History at 0x235d244e140>"
      ]
     },
     "execution_count": 18,
     "metadata": {},
     "output_type": "execute_result"
    }
   ],
   "source": [
    "model2.fit(x_train2,y_train2,batch_size=64,shuffle=True,verbose=1,epochs=10,validation_split=0.2)"
   ]
  },
  {
   "cell_type": "code",
   "execution_count": 19,
   "metadata": {},
   "outputs": [
    {
     "data": {
      "text/html": [
       "<div>\n",
       "<style scoped>\n",
       "    .dataframe tbody tr th:only-of-type {\n",
       "        vertical-align: middle;\n",
       "    }\n",
       "\n",
       "    .dataframe tbody tr th {\n",
       "        vertical-align: top;\n",
       "    }\n",
       "\n",
       "    .dataframe thead th {\n",
       "        text-align: right;\n",
       "    }\n",
       "</style>\n",
       "<table border=\"1\" class=\"dataframe\">\n",
       "  <thead>\n",
       "    <tr style=\"text-align: right;\">\n",
       "      <th></th>\n",
       "      <th>x</th>\n",
       "      <th>y</th>\n",
       "      <th>color</th>\n",
       "    </tr>\n",
       "  </thead>\n",
       "  <tbody>\n",
       "    <tr>\n",
       "      <th>0</th>\n",
       "      <td>-0.709694</td>\n",
       "      <td>1.902953</td>\n",
       "      <td>0.0</td>\n",
       "    </tr>\n",
       "    <tr>\n",
       "      <th>1</th>\n",
       "      <td>1.358063</td>\n",
       "      <td>2.923887</td>\n",
       "      <td>0.0</td>\n",
       "    </tr>\n",
       "    <tr>\n",
       "      <th>2</th>\n",
       "      <td>-0.684174</td>\n",
       "      <td>2.125850</td>\n",
       "      <td>0.0</td>\n",
       "    </tr>\n",
       "    <tr>\n",
       "      <th>3</th>\n",
       "      <td>3.190384</td>\n",
       "      <td>11.425374</td>\n",
       "      <td>0.0</td>\n",
       "    </tr>\n",
       "    <tr>\n",
       "      <th>4</th>\n",
       "      <td>-1.225524</td>\n",
       "      <td>3.178416</td>\n",
       "      <td>0.0</td>\n",
       "    </tr>\n",
       "  </tbody>\n",
       "</table>\n",
       "</div>"
      ],
      "text/plain": [
       "          x          y  color\n",
       "0 -0.709694   1.902953    0.0\n",
       "1  1.358063   2.923887    0.0\n",
       "2 -0.684174   2.125850    0.0\n",
       "3  3.190384  11.425374    0.0\n",
       "4 -1.225524   3.178416    0.0"
      ]
     },
     "execution_count": 19,
     "metadata": {},
     "output_type": "execute_result"
    }
   ],
   "source": [
    "df_que2_test = pd.read_csv(\"test2.csv\")\n",
    "df_que2_test.head()"
   ]
  },
  {
   "cell_type": "code",
   "execution_count": 20,
   "metadata": {},
   "outputs": [
    {
     "name": "stdout",
     "output_type": "stream",
     "text": [
      "32/32 [==============================] - 0s 1ms/step\n"
     ]
    }
   ],
   "source": [
    "y_pred2 = model2.predict(df_que2_test[[\"x\",\"y\"]])"
   ]
  },
  {
   "cell_type": "code",
   "execution_count": 21,
   "metadata": {},
   "outputs": [],
   "source": [
    "y_pred2 = (y_pred2 > 0.5).astype(int).reshape(-1,1)"
   ]
  },
  {
   "cell_type": "code",
   "execution_count": 22,
   "metadata": {},
   "outputs": [
    {
     "data": {
      "text/plain": [
       "0.887"
      ]
     },
     "execution_count": 22,
     "metadata": {},
     "output_type": "execute_result"
    }
   ],
   "source": [
    "from sklearn.metrics import balanced_accuracy_score\n",
    "balanced_accuracy_score(df_que2_test[[\"color\"]], y_pred2)"
   ]
  },
  {
   "attachments": {},
   "cell_type": "markdown",
   "metadata": {},
   "source": [
    "Question 3"
   ]
  },
  {
   "cell_type": "code",
   "execution_count": 23,
   "metadata": {},
   "outputs": [
    {
     "data": {
      "text/html": [
       "<div>\n",
       "<style scoped>\n",
       "    .dataframe tbody tr th:only-of-type {\n",
       "        vertical-align: middle;\n",
       "    }\n",
       "\n",
       "    .dataframe tbody tr th {\n",
       "        vertical-align: top;\n",
       "    }\n",
       "\n",
       "    .dataframe thead th {\n",
       "        text-align: right;\n",
       "    }\n",
       "</style>\n",
       "<table border=\"1\" class=\"dataframe\">\n",
       "  <thead>\n",
       "    <tr style=\"text-align: right;\">\n",
       "      <th></th>\n",
       "      <th>x</th>\n",
       "      <th>y</th>\n",
       "      <th>color</th>\n",
       "    </tr>\n",
       "  </thead>\n",
       "  <tbody>\n",
       "    <tr>\n",
       "      <th>0</th>\n",
       "      <td>0.129270</td>\n",
       "      <td>1.979720</td>\n",
       "      <td>red</td>\n",
       "    </tr>\n",
       "    <tr>\n",
       "      <th>1</th>\n",
       "      <td>-0.380831</td>\n",
       "      <td>1.693519</td>\n",
       "      <td>red</td>\n",
       "    </tr>\n",
       "    <tr>\n",
       "      <th>2</th>\n",
       "      <td>0.718693</td>\n",
       "      <td>1.791793</td>\n",
       "      <td>red</td>\n",
       "    </tr>\n",
       "    <tr>\n",
       "      <th>3</th>\n",
       "      <td>0.722922</td>\n",
       "      <td>0.620655</td>\n",
       "      <td>red</td>\n",
       "    </tr>\n",
       "    <tr>\n",
       "      <th>4</th>\n",
       "      <td>-0.432689</td>\n",
       "      <td>0.541550</td>\n",
       "      <td>red</td>\n",
       "    </tr>\n",
       "  </tbody>\n",
       "</table>\n",
       "</div>"
      ],
      "text/plain": [
       "          x         y color\n",
       "0  0.129270  1.979720   red\n",
       "1 -0.380831  1.693519   red\n",
       "2  0.718693  1.791793   red\n",
       "3  0.722922  0.620655   red\n",
       "4 -0.432689  0.541550   red"
      ]
     },
     "execution_count": 23,
     "metadata": {},
     "output_type": "execute_result"
    }
   ],
   "source": [
    "df_que3 = pd.read_csv(\"train3.csv\")\n",
    "df_que3.head()"
   ]
  },
  {
   "cell_type": "code",
   "execution_count": 24,
   "metadata": {},
   "outputs": [
    {
     "name": "stderr",
     "output_type": "stream",
     "text": [
      "d:\\Study Material\\SOC POSE\\env\\lib\\site-packages\\sklearn\\preprocessing\\_encoders.py:868: FutureWarning: `sparse` was renamed to `sparse_output` in version 1.2 and will be removed in 1.4. `sparse_output` is ignored unless you leave `sparse` to its default value.\n",
      "  warnings.warn(\n"
     ]
    }
   ],
   "source": [
    "from sklearn.preprocessing import LabelEncoder, OneHotEncoder\n",
    "\n",
    "label_encoder = LabelEncoder()\n",
    "integer_encoded = label_encoder.fit_transform(df_que3[\"color\"])\n",
    "onehot_encoder = OneHotEncoder(sparse=False)\n",
    "integer_encoded = integer_encoded.reshape(len(integer_encoded), 1)\n",
    "color_encoded = onehot_encoder.fit_transform(integer_encoded)"
   ]
  },
  {
   "cell_type": "code",
   "execution_count": 25,
   "metadata": {},
   "outputs": [],
   "source": [
    "x_train3 = df_que3[[\"x\", \"y\"]]\n",
    "y_train3 = color_encoded\n",
    "x_train3 = np.array(x_train3)\n",
    "y_train3 = np.array(y_train3)"
   ]
  },
  {
   "cell_type": "code",
   "execution_count": 26,
   "metadata": {},
   "outputs": [],
   "source": [
    "model3 = tensorflow.keras.Sequential([\n",
    "    tensorflow.keras.layers.Dense(64,input_dim=2),\n",
    "    tensorflow.keras.layers.Dense(64,activation= 'relu'),\n",
    "    tensorflow.keras.layers.Dropout(0.3),\n",
    "    tensorflow.keras.layers.Dense(64,activation= 'relu'),\n",
    "    tensorflow.keras.layers.Dense(6,activation= 'softmax'),  \n",
    "])"
   ]
  },
  {
   "cell_type": "code",
   "execution_count": 27,
   "metadata": {},
   "outputs": [],
   "source": [
    "model3.compile(loss =\"binary_crossentropy\",optimizer=tensorflow.keras.optimizers.Adam())"
   ]
  },
  {
   "cell_type": "code",
   "execution_count": 28,
   "metadata": {},
   "outputs": [
    {
     "name": "stdout",
     "output_type": "stream",
     "text": [
      "Epoch 1/10\n",
      "75/75 [==============================] - 1s 4ms/step - loss: 0.3751 - val_loss: 0.9330\n",
      "Epoch 2/10\n",
      "75/75 [==============================] - 0s 2ms/step - loss: 0.1793 - val_loss: 1.3878\n",
      "Epoch 3/10\n",
      "75/75 [==============================] - 0s 2ms/step - loss: 0.1136 - val_loss: 1.6058\n",
      "Epoch 4/10\n",
      "75/75 [==============================] - 0s 2ms/step - loss: 0.0824 - val_loss: 1.7336\n",
      "Epoch 5/10\n",
      "75/75 [==============================] - 0s 2ms/step - loss: 0.0665 - val_loss: 1.8541\n",
      "Epoch 6/10\n",
      "75/75 [==============================] - 0s 2ms/step - loss: 0.0540 - val_loss: 2.0142\n",
      "Epoch 7/10\n",
      "75/75 [==============================] - 0s 2ms/step - loss: 0.0484 - val_loss: 2.1940\n",
      "Epoch 8/10\n",
      "75/75 [==============================] - 0s 2ms/step - loss: 0.0405 - val_loss: 2.3217\n",
      "Epoch 9/10\n",
      "75/75 [==============================] - 0s 2ms/step - loss: 0.0345 - val_loss: 2.4628\n",
      "Epoch 10/10\n",
      "75/75 [==============================] - 0s 2ms/step - loss: 0.0325 - val_loss: 2.5802\n"
     ]
    },
    {
     "data": {
      "text/plain": [
       "<keras.callbacks.History at 0x235d6040730>"
      ]
     },
     "execution_count": 28,
     "metadata": {},
     "output_type": "execute_result"
    }
   ],
   "source": [
    "model3.fit(x_train3,y_train3,batch_size=64,shuffle=True,verbose=1,epochs=10,validation_split=0.2)"
   ]
  },
  {
   "cell_type": "code",
   "execution_count": 29,
   "metadata": {},
   "outputs": [
    {
     "data": {
      "text/html": [
       "<div>\n",
       "<style scoped>\n",
       "    .dataframe tbody tr th:only-of-type {\n",
       "        vertical-align: middle;\n",
       "    }\n",
       "\n",
       "    .dataframe tbody tr th {\n",
       "        vertical-align: top;\n",
       "    }\n",
       "\n",
       "    .dataframe thead th {\n",
       "        text-align: right;\n",
       "    }\n",
       "</style>\n",
       "<table border=\"1\" class=\"dataframe\">\n",
       "  <thead>\n",
       "    <tr style=\"text-align: right;\">\n",
       "      <th></th>\n",
       "      <th>x</th>\n",
       "      <th>y</th>\n",
       "      <th>color</th>\n",
       "    </tr>\n",
       "  </thead>\n",
       "  <tbody>\n",
       "    <tr>\n",
       "      <th>0</th>\n",
       "      <td>-0.173868</td>\n",
       "      <td>1.381852</td>\n",
       "      <td>red</td>\n",
       "    </tr>\n",
       "    <tr>\n",
       "      <th>1</th>\n",
       "      <td>-0.724148</td>\n",
       "      <td>1.883008</td>\n",
       "      <td>red</td>\n",
       "    </tr>\n",
       "    <tr>\n",
       "      <th>2</th>\n",
       "      <td>-0.423915</td>\n",
       "      <td>1.408297</td>\n",
       "      <td>red</td>\n",
       "    </tr>\n",
       "    <tr>\n",
       "      <th>3</th>\n",
       "      <td>-0.650162</td>\n",
       "      <td>1.296067</td>\n",
       "      <td>red</td>\n",
       "    </tr>\n",
       "    <tr>\n",
       "      <th>4</th>\n",
       "      <td>0.957933</td>\n",
       "      <td>0.633111</td>\n",
       "      <td>red</td>\n",
       "    </tr>\n",
       "  </tbody>\n",
       "</table>\n",
       "</div>"
      ],
      "text/plain": [
       "          x         y color\n",
       "0 -0.173868  1.381852   red\n",
       "1 -0.724148  1.883008   red\n",
       "2 -0.423915  1.408297   red\n",
       "3 -0.650162  1.296067   red\n",
       "4  0.957933  0.633111   red"
      ]
     },
     "execution_count": 29,
     "metadata": {},
     "output_type": "execute_result"
    }
   ],
   "source": [
    "df_que3_test = pd.read_csv(\"test3.csv\")\n",
    "df_que3_test.head()"
   ]
  },
  {
   "cell_type": "code",
   "execution_count": 30,
   "metadata": {},
   "outputs": [],
   "source": [
    "x_test3 = df_que3_test[[\"x\", \"y\"]]\n",
    "color_test = df_que3_test[[\"color\"]]\n",
    "x_test3 = np.array(x_test3).reshape(-1,2)\n",
    "color_test = np.array(color_test)"
   ]
  },
  {
   "cell_type": "code",
   "execution_count": 31,
   "metadata": {},
   "outputs": [
    {
     "name": "stdout",
     "output_type": "stream",
     "text": [
      "38/38 [==============================] - 0s 1ms/step\n"
     ]
    }
   ],
   "source": [
    "predictions3 = model3.predict(df_que3_test[[\"x\",\"y\"]])"
   ]
  },
  {
   "cell_type": "code",
   "execution_count": 32,
   "metadata": {},
   "outputs": [],
   "source": [
    "predicted_colors3 = label_encoder.inverse_transform(np.argmax(predictions3, axis=1))"
   ]
  },
  {
   "cell_type": "code",
   "execution_count": 33,
   "metadata": {},
   "outputs": [
    {
     "data": {
      "text/plain": [
       "0.8141666666666666"
      ]
     },
     "execution_count": 33,
     "metadata": {},
     "output_type": "execute_result"
    }
   ],
   "source": [
    "balanced_accuracy_score(df_que3_test[[\"color\"]], predicted_colors3)"
   ]
  },
  {
   "attachments": {},
   "cell_type": "markdown",
   "metadata": {},
   "source": [
    "Question 4"
   ]
  },
  {
   "cell_type": "code",
   "execution_count": 34,
   "metadata": {},
   "outputs": [
    {
     "data": {
      "text/html": [
       "<div>\n",
       "<style scoped>\n",
       "    .dataframe tbody tr th:only-of-type {\n",
       "        vertical-align: middle;\n",
       "    }\n",
       "\n",
       "    .dataframe tbody tr th {\n",
       "        vertical-align: top;\n",
       "    }\n",
       "\n",
       "    .dataframe thead th {\n",
       "        text-align: right;\n",
       "    }\n",
       "</style>\n",
       "<table border=\"1\" class=\"dataframe\">\n",
       "  <thead>\n",
       "    <tr style=\"text-align: right;\">\n",
       "      <th></th>\n",
       "      <th>x</th>\n",
       "      <th>y</th>\n",
       "      <th>color</th>\n",
       "      <th>marker</th>\n",
       "    </tr>\n",
       "  </thead>\n",
       "  <tbody>\n",
       "    <tr>\n",
       "      <th>0</th>\n",
       "      <td>-0.765775</td>\n",
       "      <td>1.006452</td>\n",
       "      <td>red</td>\n",
       "      <td>^</td>\n",
       "    </tr>\n",
       "    <tr>\n",
       "      <th>1</th>\n",
       "      <td>0.229016</td>\n",
       "      <td>0.094320</td>\n",
       "      <td>red</td>\n",
       "      <td>^</td>\n",
       "    </tr>\n",
       "    <tr>\n",
       "      <th>2</th>\n",
       "      <td>0.189987</td>\n",
       "      <td>1.589141</td>\n",
       "      <td>red</td>\n",
       "      <td>^</td>\n",
       "    </tr>\n",
       "    <tr>\n",
       "      <th>3</th>\n",
       "      <td>0.580085</td>\n",
       "      <td>0.520488</td>\n",
       "      <td>red</td>\n",
       "      <td>^</td>\n",
       "    </tr>\n",
       "    <tr>\n",
       "      <th>4</th>\n",
       "      <td>0.292287</td>\n",
       "      <td>0.317852</td>\n",
       "      <td>red</td>\n",
       "      <td>^</td>\n",
       "    </tr>\n",
       "  </tbody>\n",
       "</table>\n",
       "</div>"
      ],
      "text/plain": [
       "          x         y color marker\n",
       "0 -0.765775  1.006452   red      ^\n",
       "1  0.229016  0.094320   red      ^\n",
       "2  0.189987  1.589141   red      ^\n",
       "3  0.580085  0.520488   red      ^\n",
       "4  0.292287  0.317852   red      ^"
      ]
     },
     "execution_count": 34,
     "metadata": {},
     "output_type": "execute_result"
    }
   ],
   "source": [
    "df_que4 = pd.read_csv(\"train4.csv\")\n",
    "df_que4.head()"
   ]
  },
  {
   "cell_type": "code",
   "execution_count": 35,
   "metadata": {},
   "outputs": [],
   "source": [
    "label_encoder_color = LabelEncoder()\n",
    "color4 = label_encoder_color.fit_transform(df_que4[\"color\"])\n",
    "\n",
    "label_encoder_marker = LabelEncoder()\n",
    "marker4 = label_encoder_marker.fit_transform(df_que4[\"marker\"])"
   ]
  },
  {
   "cell_type": "code",
   "execution_count": 36,
   "metadata": {},
   "outputs": [],
   "source": [
    "from tensorflow.keras.models import Model\n",
    "from tensorflow.keras.layers import Dense, Input"
   ]
  },
  {
   "cell_type": "code",
   "execution_count": 37,
   "metadata": {},
   "outputs": [],
   "source": [
    "x_train4 = df_que4[[\"x\", \"y\"]]\n",
    "x_train4 = np.array(x_train4)\n",
    "color4 = np.array(color4)\n",
    "marker4 = np.array(marker4)"
   ]
  },
  {
   "cell_type": "code",
   "execution_count": 38,
   "metadata": {},
   "outputs": [],
   "source": [
    "inputs = Input(shape=(2,))\n",
    "x = Dense(64, activation='relu')(inputs)\n",
    "x = Dense(64, activation='relu')(x)\n",
    "\n",
    "color_output = Dense(len(label_encoder_color.classes_), activation='softmax', name='color')(x)\n",
    "\n",
    "marker_output = Dense(len(label_encoder_marker.classes_), activation='softmax', name='marker')(x)"
   ]
  },
  {
   "cell_type": "code",
   "execution_count": 39,
   "metadata": {},
   "outputs": [],
   "source": [
    "model4 = Model(inputs=inputs, outputs=[color_output, marker_output])"
   ]
  },
  {
   "cell_type": "code",
   "execution_count": 40,
   "metadata": {},
   "outputs": [],
   "source": [
    "model4.compile(\n",
    "    optimizer='adam',\n",
    "    loss={'color': 'sparse_categorical_crossentropy', 'marker': 'sparse_categorical_crossentropy'},\n",
    "    metrics={'color': 'accuracy', 'marker': 'accuracy'}\n",
    ")"
   ]
  },
  {
   "cell_type": "code",
   "execution_count": 42,
   "metadata": {},
   "outputs": [
    {
     "name": "stdout",
     "output_type": "stream",
     "text": [
      "Epoch 1/100\n",
      "150/150 [==============================] - 2s 5ms/step - loss: 1.2982 - color_loss: 0.9459 - marker_loss: 0.3524 - color_accuracy: 0.6631 - marker_accuracy: 0.8765 - val_loss: 13.0058 - val_color_loss: 6.3355 - val_marker_loss: 6.6703 - val_color_accuracy: 0.1042 - val_marker_accuracy: 0.1667\n",
      "Epoch 2/100\n",
      "150/150 [==============================] - 0s 3ms/step - loss: 0.3443 - color_loss: 0.2782 - marker_loss: 0.0661 - color_accuracy: 0.9173 - marker_accuracy: 0.9829 - val_loss: 18.3068 - val_color_loss: 8.6294 - val_marker_loss: 9.6774 - val_color_accuracy: 0.1367 - val_marker_accuracy: 0.1667\n",
      "Epoch 3/100\n",
      "150/150 [==============================] - 0s 2ms/step - loss: 0.2039 - color_loss: 0.1642 - marker_loss: 0.0397 - color_accuracy: 0.9521 - marker_accuracy: 0.9908 - val_loss: 21.6395 - val_color_loss: 10.1438 - val_marker_loss: 11.4957 - val_color_accuracy: 0.1542 - val_marker_accuracy: 0.1667\n",
      "Epoch 4/100\n",
      "150/150 [==============================] - 0s 3ms/step - loss: 0.1539 - color_loss: 0.1212 - marker_loss: 0.0327 - color_accuracy: 0.9692 - marker_accuracy: 0.9921 - val_loss: 23.9704 - val_color_loss: 11.1979 - val_marker_loss: 12.7725 - val_color_accuracy: 0.1625 - val_marker_accuracy: 0.1667\n",
      "Epoch 5/100\n",
      "150/150 [==============================] - 0s 2ms/step - loss: 0.1282 - color_loss: 0.0999 - marker_loss: 0.0283 - color_accuracy: 0.9756 - marker_accuracy: 0.9929 - val_loss: 25.9567 - val_color_loss: 12.1149 - val_marker_loss: 13.8418 - val_color_accuracy: 0.1617 - val_marker_accuracy: 0.1667\n",
      "Epoch 6/100\n",
      "150/150 [==============================] - 0s 2ms/step - loss: 0.1098 - color_loss: 0.0857 - marker_loss: 0.0241 - color_accuracy: 0.9790 - marker_accuracy: 0.9935 - val_loss: 28.1870 - val_color_loss: 13.1822 - val_marker_loss: 15.0049 - val_color_accuracy: 0.1608 - val_marker_accuracy: 0.1667\n",
      "Epoch 7/100\n",
      "150/150 [==============================] - 0s 2ms/step - loss: 0.1029 - color_loss: 0.0792 - marker_loss: 0.0237 - color_accuracy: 0.9785 - marker_accuracy: 0.9921 - val_loss: 30.6514 - val_color_loss: 14.3156 - val_marker_loss: 16.3358 - val_color_accuracy: 0.1575 - val_marker_accuracy: 0.1658\n",
      "Epoch 8/100\n",
      "150/150 [==============================] - 0s 2ms/step - loss: 0.0936 - color_loss: 0.0704 - marker_loss: 0.0232 - color_accuracy: 0.9827 - marker_accuracy: 0.9919 - val_loss: 31.8329 - val_color_loss: 14.7938 - val_marker_loss: 17.0391 - val_color_accuracy: 0.1658 - val_marker_accuracy: 0.1667\n",
      "Epoch 9/100\n",
      "150/150 [==============================] - 0s 2ms/step - loss: 0.0908 - color_loss: 0.0703 - marker_loss: 0.0205 - color_accuracy: 0.9785 - marker_accuracy: 0.9929 - val_loss: 33.7197 - val_color_loss: 15.6498 - val_marker_loss: 18.0699 - val_color_accuracy: 0.1583 - val_marker_accuracy: 0.1658\n",
      "Epoch 10/100\n",
      "150/150 [==============================] - 0s 2ms/step - loss: 0.0781 - color_loss: 0.0599 - marker_loss: 0.0182 - color_accuracy: 0.9852 - marker_accuracy: 0.9952 - val_loss: 34.2074 - val_color_loss: 15.9574 - val_marker_loss: 18.2501 - val_color_accuracy: 0.1650 - val_marker_accuracy: 0.1667\n",
      "Epoch 11/100\n",
      "150/150 [==============================] - 0s 2ms/step - loss: 0.0784 - color_loss: 0.0591 - marker_loss: 0.0193 - color_accuracy: 0.9829 - marker_accuracy: 0.9925 - val_loss: 35.3823 - val_color_loss: 16.5313 - val_marker_loss: 18.8510 - val_color_accuracy: 0.1633 - val_marker_accuracy: 0.1667\n",
      "Epoch 12/100\n",
      "150/150 [==============================] - 0s 2ms/step - loss: 0.0730 - color_loss: 0.0566 - marker_loss: 0.0164 - color_accuracy: 0.9810 - marker_accuracy: 0.9950 - val_loss: 36.2722 - val_color_loss: 16.9668 - val_marker_loss: 19.3053 - val_color_accuracy: 0.1575 - val_marker_accuracy: 0.1667\n",
      "Epoch 13/100\n",
      "150/150 [==============================] - 0s 2ms/step - loss: 0.0707 - color_loss: 0.0534 - marker_loss: 0.0172 - color_accuracy: 0.9825 - marker_accuracy: 0.9944 - val_loss: 36.4924 - val_color_loss: 17.1065 - val_marker_loss: 19.3860 - val_color_accuracy: 0.1608 - val_marker_accuracy: 0.1667\n",
      "Epoch 14/100\n",
      "150/150 [==============================] - 0s 2ms/step - loss: 0.0644 - color_loss: 0.0492 - marker_loss: 0.0153 - color_accuracy: 0.9858 - marker_accuracy: 0.9960 - val_loss: 38.0274 - val_color_loss: 17.7766 - val_marker_loss: 20.2508 - val_color_accuracy: 0.1617 - val_marker_accuracy: 0.1667\n",
      "Epoch 15/100\n",
      "150/150 [==============================] - 0s 2ms/step - loss: 0.0630 - color_loss: 0.0474 - marker_loss: 0.0156 - color_accuracy: 0.9871 - marker_accuracy: 0.9940 - val_loss: 39.2133 - val_color_loss: 18.3018 - val_marker_loss: 20.9115 - val_color_accuracy: 0.1608 - val_marker_accuracy: 0.1667\n",
      "Epoch 16/100\n",
      "150/150 [==============================] - 0s 2ms/step - loss: 0.0603 - color_loss: 0.0451 - marker_loss: 0.0153 - color_accuracy: 0.9862 - marker_accuracy: 0.9946 - val_loss: 42.0687 - val_color_loss: 19.6030 - val_marker_loss: 22.4657 - val_color_accuracy: 0.1650 - val_marker_accuracy: 0.1658\n",
      "Epoch 17/100\n",
      "150/150 [==============================] - 0s 2ms/step - loss: 0.0620 - color_loss: 0.0455 - marker_loss: 0.0165 - color_accuracy: 0.9842 - marker_accuracy: 0.9944 - val_loss: 41.9866 - val_color_loss: 19.6113 - val_marker_loss: 22.3753 - val_color_accuracy: 0.1658 - val_marker_accuracy: 0.1667\n",
      "Epoch 18/100\n",
      "150/150 [==============================] - 0s 2ms/step - loss: 0.0606 - color_loss: 0.0452 - marker_loss: 0.0155 - color_accuracy: 0.9852 - marker_accuracy: 0.9929 - val_loss: 43.0268 - val_color_loss: 20.0744 - val_marker_loss: 22.9524 - val_color_accuracy: 0.1567 - val_marker_accuracy: 0.1667\n",
      "Epoch 19/100\n",
      "150/150 [==============================] - 0s 2ms/step - loss: 0.0598 - color_loss: 0.0454 - marker_loss: 0.0143 - color_accuracy: 0.9837 - marker_accuracy: 0.9942 - val_loss: 43.0034 - val_color_loss: 20.1647 - val_marker_loss: 22.8387 - val_color_accuracy: 0.1592 - val_marker_accuracy: 0.1667\n",
      "Epoch 20/100\n",
      "150/150 [==============================] - 0s 3ms/step - loss: 0.0512 - color_loss: 0.0382 - marker_loss: 0.0130 - color_accuracy: 0.9902 - marker_accuracy: 0.9956 - val_loss: 43.7332 - val_color_loss: 20.3854 - val_marker_loss: 23.3479 - val_color_accuracy: 0.1658 - val_marker_accuracy: 0.1667\n",
      "Epoch 21/100\n",
      "150/150 [==============================] - 0s 2ms/step - loss: 0.0569 - color_loss: 0.0415 - marker_loss: 0.0154 - color_accuracy: 0.9848 - marker_accuracy: 0.9919 - val_loss: 44.7531 - val_color_loss: 20.8802 - val_marker_loss: 23.8729 - val_color_accuracy: 0.1667 - val_marker_accuracy: 0.1667\n",
      "Epoch 22/100\n",
      "150/150 [==============================] - 0s 2ms/step - loss: 0.0530 - color_loss: 0.0392 - marker_loss: 0.0138 - color_accuracy: 0.9890 - marker_accuracy: 0.9946 - val_loss: 45.8918 - val_color_loss: 21.4343 - val_marker_loss: 24.4576 - val_color_accuracy: 0.1658 - val_marker_accuracy: 0.1667\n",
      "Epoch 23/100\n",
      "150/150 [==============================] - 0s 3ms/step - loss: 0.0535 - color_loss: 0.0400 - marker_loss: 0.0136 - color_accuracy: 0.9848 - marker_accuracy: 0.9944 - val_loss: 45.8780 - val_color_loss: 21.4447 - val_marker_loss: 24.4333 - val_color_accuracy: 0.1667 - val_marker_accuracy: 0.1667\n",
      "Epoch 24/100\n",
      "150/150 [==============================] - 0s 2ms/step - loss: 0.0493 - color_loss: 0.0374 - marker_loss: 0.0119 - color_accuracy: 0.9881 - marker_accuracy: 0.9967 - val_loss: 46.7667 - val_color_loss: 21.8779 - val_marker_loss: 24.8888 - val_color_accuracy: 0.1667 - val_marker_accuracy: 0.1667\n",
      "Epoch 25/100\n",
      "150/150 [==============================] - 0s 2ms/step - loss: 0.0508 - color_loss: 0.0373 - marker_loss: 0.0135 - color_accuracy: 0.9869 - marker_accuracy: 0.9944 - val_loss: 46.7795 - val_color_loss: 21.9732 - val_marker_loss: 24.8063 - val_color_accuracy: 0.1633 - val_marker_accuracy: 0.1667\n",
      "Epoch 26/100\n",
      "150/150 [==============================] - 0s 2ms/step - loss: 0.0596 - color_loss: 0.0426 - marker_loss: 0.0170 - color_accuracy: 0.9846 - marker_accuracy: 0.9925 - val_loss: 47.5185 - val_color_loss: 22.2755 - val_marker_loss: 25.2431 - val_color_accuracy: 0.1658 - val_marker_accuracy: 0.1667\n",
      "Epoch 27/100\n",
      "150/150 [==============================] - 0s 2ms/step - loss: 0.0490 - color_loss: 0.0369 - marker_loss: 0.0122 - color_accuracy: 0.9862 - marker_accuracy: 0.9954 - val_loss: 49.1448 - val_color_loss: 23.1559 - val_marker_loss: 25.9889 - val_color_accuracy: 0.1608 - val_marker_accuracy: 0.1667\n",
      "Epoch 28/100\n",
      "150/150 [==============================] - 0s 2ms/step - loss: 0.0467 - color_loss: 0.0346 - marker_loss: 0.0121 - color_accuracy: 0.9883 - marker_accuracy: 0.9954 - val_loss: 48.4603 - val_color_loss: 22.7130 - val_marker_loss: 25.7473 - val_color_accuracy: 0.1658 - val_marker_accuracy: 0.1667\n",
      "Epoch 29/100\n",
      "150/150 [==============================] - 0s 2ms/step - loss: 0.0493 - color_loss: 0.0360 - marker_loss: 0.0132 - color_accuracy: 0.9844 - marker_accuracy: 0.9937 - val_loss: 49.8252 - val_color_loss: 23.3683 - val_marker_loss: 26.4569 - val_color_accuracy: 0.1667 - val_marker_accuracy: 0.1667\n",
      "Epoch 30/100\n",
      "150/150 [==============================] - 0s 2ms/step - loss: 0.0443 - color_loss: 0.0323 - marker_loss: 0.0120 - color_accuracy: 0.9894 - marker_accuracy: 0.9960 - val_loss: 49.7310 - val_color_loss: 23.3460 - val_marker_loss: 26.3850 - val_color_accuracy: 0.1650 - val_marker_accuracy: 0.1667\n",
      "Epoch 31/100\n",
      "150/150 [==============================] - 0s 2ms/step - loss: 0.0530 - color_loss: 0.0398 - marker_loss: 0.0132 - color_accuracy: 0.9846 - marker_accuracy: 0.9952 - val_loss: 51.1635 - val_color_loss: 23.9362 - val_marker_loss: 27.2273 - val_color_accuracy: 0.1658 - val_marker_accuracy: 0.1667\n",
      "Epoch 32/100\n",
      "150/150 [==============================] - 0s 2ms/step - loss: 0.0441 - color_loss: 0.0322 - marker_loss: 0.0119 - color_accuracy: 0.9892 - marker_accuracy: 0.9954 - val_loss: 51.1972 - val_color_loss: 24.0970 - val_marker_loss: 27.1003 - val_color_accuracy: 0.1650 - val_marker_accuracy: 0.1667\n",
      "Epoch 33/100\n",
      "150/150 [==============================] - 0s 2ms/step - loss: 0.0470 - color_loss: 0.0351 - marker_loss: 0.0119 - color_accuracy: 0.9858 - marker_accuracy: 0.9954 - val_loss: 52.9498 - val_color_loss: 24.7842 - val_marker_loss: 28.1656 - val_color_accuracy: 0.1667 - val_marker_accuracy: 0.1658\n",
      "Epoch 34/100\n",
      "150/150 [==============================] - 0s 2ms/step - loss: 0.0396 - color_loss: 0.0290 - marker_loss: 0.0106 - color_accuracy: 0.9900 - marker_accuracy: 0.9956 - val_loss: 51.8348 - val_color_loss: 24.3586 - val_marker_loss: 27.4762 - val_color_accuracy: 0.1642 - val_marker_accuracy: 0.1667\n",
      "Epoch 35/100\n",
      "150/150 [==============================] - 0s 2ms/step - loss: 0.0602 - color_loss: 0.0468 - marker_loss: 0.0134 - color_accuracy: 0.9810 - marker_accuracy: 0.9952 - val_loss: 52.6607 - val_color_loss: 24.6266 - val_marker_loss: 28.0341 - val_color_accuracy: 0.1600 - val_marker_accuracy: 0.1667\n",
      "Epoch 36/100\n",
      "150/150 [==============================] - 0s 2ms/step - loss: 0.0385 - color_loss: 0.0286 - marker_loss: 0.0099 - color_accuracy: 0.9906 - marker_accuracy: 0.9956 - val_loss: 54.1745 - val_color_loss: 25.3097 - val_marker_loss: 28.8649 - val_color_accuracy: 0.1642 - val_marker_accuracy: 0.1667\n",
      "Epoch 37/100\n",
      "150/150 [==============================] - 0s 2ms/step - loss: 0.0502 - color_loss: 0.0353 - marker_loss: 0.0149 - color_accuracy: 0.9873 - marker_accuracy: 0.9929 - val_loss: 53.8700 - val_color_loss: 25.2276 - val_marker_loss: 28.6424 - val_color_accuracy: 0.1667 - val_marker_accuracy: 0.1667\n",
      "Epoch 38/100\n",
      "150/150 [==============================] - 0s 2ms/step - loss: 0.0389 - color_loss: 0.0294 - marker_loss: 0.0095 - color_accuracy: 0.9885 - marker_accuracy: 0.9960 - val_loss: 55.1038 - val_color_loss: 25.6802 - val_marker_loss: 29.4236 - val_color_accuracy: 0.1658 - val_marker_accuracy: 0.1667\n",
      "Epoch 39/100\n",
      "150/150 [==============================] - 0s 2ms/step - loss: 0.0414 - color_loss: 0.0309 - marker_loss: 0.0105 - color_accuracy: 0.9885 - marker_accuracy: 0.9960 - val_loss: 55.8071 - val_color_loss: 25.9998 - val_marker_loss: 29.8073 - val_color_accuracy: 0.1617 - val_marker_accuracy: 0.1667\n",
      "Epoch 40/100\n",
      "150/150 [==============================] - 0s 2ms/step - loss: 0.0468 - color_loss: 0.0332 - marker_loss: 0.0136 - color_accuracy: 0.9881 - marker_accuracy: 0.9940 - val_loss: 53.4474 - val_color_loss: 24.9748 - val_marker_loss: 28.4726 - val_color_accuracy: 0.1667 - val_marker_accuracy: 0.1667\n",
      "Epoch 41/100\n",
      "150/150 [==============================] - 0s 2ms/step - loss: 0.0428 - color_loss: 0.0313 - marker_loss: 0.0116 - color_accuracy: 0.9898 - marker_accuracy: 0.9958 - val_loss: 56.8533 - val_color_loss: 26.5631 - val_marker_loss: 30.2902 - val_color_accuracy: 0.1667 - val_marker_accuracy: 0.1658\n",
      "Epoch 42/100\n",
      "150/150 [==============================] - 0s 2ms/step - loss: 0.0351 - color_loss: 0.0266 - marker_loss: 0.0085 - color_accuracy: 0.9917 - marker_accuracy: 0.9973 - val_loss: 56.7541 - val_color_loss: 26.5149 - val_marker_loss: 30.2393 - val_color_accuracy: 0.1625 - val_marker_accuracy: 0.1667\n",
      "Epoch 43/100\n",
      "150/150 [==============================] - 0s 2ms/step - loss: 0.0409 - color_loss: 0.0289 - marker_loss: 0.0119 - color_accuracy: 0.9892 - marker_accuracy: 0.9956 - val_loss: 54.6036 - val_color_loss: 25.6398 - val_marker_loss: 28.9638 - val_color_accuracy: 0.1508 - val_marker_accuracy: 0.1667\n",
      "Epoch 44/100\n",
      "150/150 [==============================] - 0s 2ms/step - loss: 0.0378 - color_loss: 0.0290 - marker_loss: 0.0088 - color_accuracy: 0.9892 - marker_accuracy: 0.9973 - val_loss: 57.1624 - val_color_loss: 26.7092 - val_marker_loss: 30.4533 - val_color_accuracy: 0.1592 - val_marker_accuracy: 0.1667\n",
      "Epoch 45/100\n",
      "150/150 [==============================] - 0s 2ms/step - loss: 0.0394 - color_loss: 0.0295 - marker_loss: 0.0099 - color_accuracy: 0.9881 - marker_accuracy: 0.9965 - val_loss: 57.6152 - val_color_loss: 26.8044 - val_marker_loss: 30.8107 - val_color_accuracy: 0.1667 - val_marker_accuracy: 0.1667\n",
      "Epoch 46/100\n",
      "150/150 [==============================] - 0s 2ms/step - loss: 0.0377 - color_loss: 0.0278 - marker_loss: 0.0099 - color_accuracy: 0.9885 - marker_accuracy: 0.9954 - val_loss: 57.6738 - val_color_loss: 26.8607 - val_marker_loss: 30.8131 - val_color_accuracy: 0.1667 - val_marker_accuracy: 0.1667\n",
      "Epoch 47/100\n",
      "150/150 [==============================] - 0s 2ms/step - loss: 0.0509 - color_loss: 0.0359 - marker_loss: 0.0149 - color_accuracy: 0.9862 - marker_accuracy: 0.9940 - val_loss: 59.4320 - val_color_loss: 27.6773 - val_marker_loss: 31.7546 - val_color_accuracy: 0.1658 - val_marker_accuracy: 0.1658\n",
      "Epoch 48/100\n",
      "150/150 [==============================] - 0s 2ms/step - loss: 0.0454 - color_loss: 0.0339 - marker_loss: 0.0115 - color_accuracy: 0.9871 - marker_accuracy: 0.9948 - val_loss: 58.8697 - val_color_loss: 27.3893 - val_marker_loss: 31.4804 - val_color_accuracy: 0.1667 - val_marker_accuracy: 0.1667\n",
      "Epoch 49/100\n",
      "150/150 [==============================] - 0s 2ms/step - loss: 0.0382 - color_loss: 0.0269 - marker_loss: 0.0113 - color_accuracy: 0.9904 - marker_accuracy: 0.9946 - val_loss: 59.6653 - val_color_loss: 27.7083 - val_marker_loss: 31.9570 - val_color_accuracy: 0.1658 - val_marker_accuracy: 0.1667\n",
      "Epoch 50/100\n",
      "150/150 [==============================] - 0s 2ms/step - loss: 0.0439 - color_loss: 0.0302 - marker_loss: 0.0137 - color_accuracy: 0.9896 - marker_accuracy: 0.9948 - val_loss: 59.4312 - val_color_loss: 27.6167 - val_marker_loss: 31.8145 - val_color_accuracy: 0.1650 - val_marker_accuracy: 0.1667\n",
      "Epoch 51/100\n",
      "150/150 [==============================] - 0s 2ms/step - loss: 0.0342 - color_loss: 0.0246 - marker_loss: 0.0096 - color_accuracy: 0.9921 - marker_accuracy: 0.9965 - val_loss: 59.3711 - val_color_loss: 27.5083 - val_marker_loss: 31.8628 - val_color_accuracy: 0.1592 - val_marker_accuracy: 0.1667\n",
      "Epoch 52/100\n",
      "150/150 [==============================] - 0s 2ms/step - loss: 0.0398 - color_loss: 0.0296 - marker_loss: 0.0102 - color_accuracy: 0.9892 - marker_accuracy: 0.9946 - val_loss: 59.5193 - val_color_loss: 27.6118 - val_marker_loss: 31.9076 - val_color_accuracy: 0.1625 - val_marker_accuracy: 0.1667\n",
      "Epoch 53/100\n",
      "150/150 [==============================] - 0s 2ms/step - loss: 0.0380 - color_loss: 0.0262 - marker_loss: 0.0119 - color_accuracy: 0.9906 - marker_accuracy: 0.9946 - val_loss: 61.2588 - val_color_loss: 28.4959 - val_marker_loss: 32.7629 - val_color_accuracy: 0.1658 - val_marker_accuracy: 0.1667\n",
      "Epoch 54/100\n",
      "150/150 [==============================] - 0s 2ms/step - loss: 0.0366 - color_loss: 0.0262 - marker_loss: 0.0105 - color_accuracy: 0.9898 - marker_accuracy: 0.9962 - val_loss: 60.3007 - val_color_loss: 28.0606 - val_marker_loss: 32.2401 - val_color_accuracy: 0.1667 - val_marker_accuracy: 0.1667\n",
      "Epoch 55/100\n",
      "150/150 [==============================] - 0s 2ms/step - loss: 0.0338 - color_loss: 0.0245 - marker_loss: 0.0093 - color_accuracy: 0.9904 - marker_accuracy: 0.9958 - val_loss: 62.2924 - val_color_loss: 28.8095 - val_marker_loss: 33.4830 - val_color_accuracy: 0.1658 - val_marker_accuracy: 0.1658\n",
      "Epoch 56/100\n",
      "150/150 [==============================] - 0s 2ms/step - loss: 0.0353 - color_loss: 0.0261 - marker_loss: 0.0093 - color_accuracy: 0.9902 - marker_accuracy: 0.9960 - val_loss: 61.4441 - val_color_loss: 28.4789 - val_marker_loss: 32.9652 - val_color_accuracy: 0.1658 - val_marker_accuracy: 0.1667\n",
      "Epoch 57/100\n",
      "150/150 [==============================] - 0s 2ms/step - loss: 0.0515 - color_loss: 0.0339 - marker_loss: 0.0176 - color_accuracy: 0.9856 - marker_accuracy: 0.9929 - val_loss: 61.6795 - val_color_loss: 28.5335 - val_marker_loss: 33.1460 - val_color_accuracy: 0.1667 - val_marker_accuracy: 0.1667\n",
      "Epoch 58/100\n",
      "150/150 [==============================] - 0s 2ms/step - loss: 0.0364 - color_loss: 0.0256 - marker_loss: 0.0107 - color_accuracy: 0.9896 - marker_accuracy: 0.9962 - val_loss: 62.2044 - val_color_loss: 28.7373 - val_marker_loss: 33.4671 - val_color_accuracy: 0.1658 - val_marker_accuracy: 0.1667\n",
      "Epoch 59/100\n",
      "150/150 [==============================] - 0s 2ms/step - loss: 0.0376 - color_loss: 0.0265 - marker_loss: 0.0110 - color_accuracy: 0.9885 - marker_accuracy: 0.9958 - val_loss: 61.5625 - val_color_loss: 28.5366 - val_marker_loss: 33.0259 - val_color_accuracy: 0.1617 - val_marker_accuracy: 0.1667\n",
      "Epoch 60/100\n",
      "150/150 [==============================] - 0s 2ms/step - loss: 0.0383 - color_loss: 0.0275 - marker_loss: 0.0108 - color_accuracy: 0.9892 - marker_accuracy: 0.9962 - val_loss: 63.5220 - val_color_loss: 29.3943 - val_marker_loss: 34.1277 - val_color_accuracy: 0.1658 - val_marker_accuracy: 0.1667\n",
      "Epoch 61/100\n",
      "150/150 [==============================] - 0s 2ms/step - loss: 0.0330 - color_loss: 0.0240 - marker_loss: 0.0090 - color_accuracy: 0.9906 - marker_accuracy: 0.9956 - val_loss: 64.1641 - val_color_loss: 29.6297 - val_marker_loss: 34.5344 - val_color_accuracy: 0.1667 - val_marker_accuracy: 0.1658\n",
      "Epoch 62/100\n",
      "150/150 [==============================] - 0s 2ms/step - loss: 0.0422 - color_loss: 0.0281 - marker_loss: 0.0140 - color_accuracy: 0.9887 - marker_accuracy: 0.9944 - val_loss: 62.7935 - val_color_loss: 28.9160 - val_marker_loss: 33.8775 - val_color_accuracy: 0.1667 - val_marker_accuracy: 0.1667\n",
      "Epoch 63/100\n",
      "150/150 [==============================] - 0s 2ms/step - loss: 0.0280 - color_loss: 0.0207 - marker_loss: 0.0073 - color_accuracy: 0.9925 - marker_accuracy: 0.9977 - val_loss: 64.2368 - val_color_loss: 29.6015 - val_marker_loss: 34.6354 - val_color_accuracy: 0.1658 - val_marker_accuracy: 0.1667\n",
      "Epoch 64/100\n",
      "150/150 [==============================] - 0s 2ms/step - loss: 0.0327 - color_loss: 0.0231 - marker_loss: 0.0096 - color_accuracy: 0.9921 - marker_accuracy: 0.9965 - val_loss: 62.1098 - val_color_loss: 28.6834 - val_marker_loss: 33.4265 - val_color_accuracy: 0.1525 - val_marker_accuracy: 0.1667\n",
      "Epoch 65/100\n",
      "150/150 [==============================] - 0s 2ms/step - loss: 0.0409 - color_loss: 0.0295 - marker_loss: 0.0114 - color_accuracy: 0.9883 - marker_accuracy: 0.9960 - val_loss: 63.8686 - val_color_loss: 29.4259 - val_marker_loss: 34.4427 - val_color_accuracy: 0.1625 - val_marker_accuracy: 0.1667\n",
      "Epoch 66/100\n",
      "150/150 [==============================] - 0s 2ms/step - loss: 0.0382 - color_loss: 0.0264 - marker_loss: 0.0118 - color_accuracy: 0.9917 - marker_accuracy: 0.9956 - val_loss: 65.0257 - val_color_loss: 29.7575 - val_marker_loss: 35.2682 - val_color_accuracy: 0.1642 - val_marker_accuracy: 0.1658\n",
      "Epoch 67/100\n",
      "150/150 [==============================] - 0s 2ms/step - loss: 0.0400 - color_loss: 0.0310 - marker_loss: 0.0090 - color_accuracy: 0.9875 - marker_accuracy: 0.9962 - val_loss: 64.9525 - val_color_loss: 29.8042 - val_marker_loss: 35.1482 - val_color_accuracy: 0.1633 - val_marker_accuracy: 0.1667\n",
      "Epoch 68/100\n",
      "150/150 [==============================] - 0s 2ms/step - loss: 0.0336 - color_loss: 0.0248 - marker_loss: 0.0088 - color_accuracy: 0.9900 - marker_accuracy: 0.9967 - val_loss: 64.6771 - val_color_loss: 29.6874 - val_marker_loss: 34.9897 - val_color_accuracy: 0.1617 - val_marker_accuracy: 0.1667\n",
      "Epoch 69/100\n",
      "150/150 [==============================] - 0s 2ms/step - loss: 0.0344 - color_loss: 0.0243 - marker_loss: 0.0102 - color_accuracy: 0.9923 - marker_accuracy: 0.9958 - val_loss: 64.5541 - val_color_loss: 29.5579 - val_marker_loss: 34.9962 - val_color_accuracy: 0.1667 - val_marker_accuracy: 0.1667\n",
      "Epoch 70/100\n",
      "150/150 [==============================] - 0s 2ms/step - loss: 0.0302 - color_loss: 0.0231 - marker_loss: 0.0071 - color_accuracy: 0.9908 - marker_accuracy: 0.9967 - val_loss: 66.3621 - val_color_loss: 30.5372 - val_marker_loss: 35.8248 - val_color_accuracy: 0.1658 - val_marker_accuracy: 0.1667\n",
      "Epoch 71/100\n",
      "150/150 [==============================] - 0s 2ms/step - loss: 0.0302 - color_loss: 0.0229 - marker_loss: 0.0073 - color_accuracy: 0.9919 - marker_accuracy: 0.9981 - val_loss: 64.2258 - val_color_loss: 29.4054 - val_marker_loss: 34.8203 - val_color_accuracy: 0.1617 - val_marker_accuracy: 0.1667\n",
      "Epoch 72/100\n",
      "150/150 [==============================] - 0s 3ms/step - loss: 0.0421 - color_loss: 0.0308 - marker_loss: 0.0113 - color_accuracy: 0.9875 - marker_accuracy: 0.9952 - val_loss: 66.9435 - val_color_loss: 30.5715 - val_marker_loss: 36.3720 - val_color_accuracy: 0.1667 - val_marker_accuracy: 0.1658\n",
      "Epoch 73/100\n",
      "150/150 [==============================] - 0s 2ms/step - loss: 0.0324 - color_loss: 0.0232 - marker_loss: 0.0091 - color_accuracy: 0.9904 - marker_accuracy: 0.9958 - val_loss: 64.6667 - val_color_loss: 29.4321 - val_marker_loss: 35.2346 - val_color_accuracy: 0.1667 - val_marker_accuracy: 0.1667\n",
      "Epoch 74/100\n",
      "150/150 [==============================] - 0s 3ms/step - loss: 0.0264 - color_loss: 0.0200 - marker_loss: 0.0064 - color_accuracy: 0.9937 - marker_accuracy: 0.9981 - val_loss: 67.7210 - val_color_loss: 31.0012 - val_marker_loss: 36.7198 - val_color_accuracy: 0.1583 - val_marker_accuracy: 0.1667\n",
      "Epoch 75/100\n",
      "150/150 [==============================] - 0s 3ms/step - loss: 0.0322 - color_loss: 0.0230 - marker_loss: 0.0092 - color_accuracy: 0.9908 - marker_accuracy: 0.9971 - val_loss: 66.7430 - val_color_loss: 30.4292 - val_marker_loss: 36.3138 - val_color_accuracy: 0.1617 - val_marker_accuracy: 0.1667\n",
      "Epoch 76/100\n",
      "150/150 [==============================] - 0s 3ms/step - loss: 0.0324 - color_loss: 0.0236 - marker_loss: 0.0088 - color_accuracy: 0.9908 - marker_accuracy: 0.9971 - val_loss: 67.3319 - val_color_loss: 30.7309 - val_marker_loss: 36.6010 - val_color_accuracy: 0.1625 - val_marker_accuracy: 0.1667\n",
      "Epoch 77/100\n",
      "150/150 [==============================] - 0s 2ms/step - loss: 0.0325 - color_loss: 0.0247 - marker_loss: 0.0079 - color_accuracy: 0.9894 - marker_accuracy: 0.9971 - val_loss: 68.2202 - val_color_loss: 31.1735 - val_marker_loss: 37.0468 - val_color_accuracy: 0.1658 - val_marker_accuracy: 0.1667\n",
      "Epoch 78/100\n",
      "150/150 [==============================] - 0s 2ms/step - loss: 0.0287 - color_loss: 0.0216 - marker_loss: 0.0071 - color_accuracy: 0.9906 - marker_accuracy: 0.9967 - val_loss: 67.3534 - val_color_loss: 30.7243 - val_marker_loss: 36.6291 - val_color_accuracy: 0.1658 - val_marker_accuracy: 0.1667\n",
      "Epoch 79/100\n",
      "150/150 [==============================] - 0s 2ms/step - loss: 0.0282 - color_loss: 0.0214 - marker_loss: 0.0067 - color_accuracy: 0.9910 - marker_accuracy: 0.9971 - val_loss: 70.2275 - val_color_loss: 31.9271 - val_marker_loss: 38.3004 - val_color_accuracy: 0.1658 - val_marker_accuracy: 0.1658\n",
      "Epoch 80/100\n",
      "150/150 [==============================] - 0s 2ms/step - loss: 0.0433 - color_loss: 0.0281 - marker_loss: 0.0152 - color_accuracy: 0.9894 - marker_accuracy: 0.9944 - val_loss: 67.1071 - val_color_loss: 30.2805 - val_marker_loss: 36.8267 - val_color_accuracy: 0.1608 - val_marker_accuracy: 0.1667\n",
      "Epoch 81/100\n",
      "150/150 [==============================] - 0s 2ms/step - loss: 0.0511 - color_loss: 0.0355 - marker_loss: 0.0156 - color_accuracy: 0.9862 - marker_accuracy: 0.9942 - val_loss: 67.4567 - val_color_loss: 30.3447 - val_marker_loss: 37.1120 - val_color_accuracy: 0.1658 - val_marker_accuracy: 0.1667\n",
      "Epoch 82/100\n",
      "150/150 [==============================] - 0s 2ms/step - loss: 0.0444 - color_loss: 0.0324 - marker_loss: 0.0120 - color_accuracy: 0.9871 - marker_accuracy: 0.9950 - val_loss: 68.0517 - val_color_loss: 30.4985 - val_marker_loss: 37.5532 - val_color_accuracy: 0.1658 - val_marker_accuracy: 0.1667\n",
      "Epoch 83/100\n",
      "150/150 [==============================] - 0s 2ms/step - loss: 0.0371 - color_loss: 0.0253 - marker_loss: 0.0119 - color_accuracy: 0.9900 - marker_accuracy: 0.9950 - val_loss: 68.7157 - val_color_loss: 30.8242 - val_marker_loss: 37.8915 - val_color_accuracy: 0.1667 - val_marker_accuracy: 0.1667\n",
      "Epoch 84/100\n",
      "150/150 [==============================] - 0s 2ms/step - loss: 0.0284 - color_loss: 0.0197 - marker_loss: 0.0086 - color_accuracy: 0.9935 - marker_accuracy: 0.9962 - val_loss: 69.9303 - val_color_loss: 31.4102 - val_marker_loss: 38.5201 - val_color_accuracy: 0.1658 - val_marker_accuracy: 0.1667\n",
      "Epoch 85/100\n",
      "150/150 [==============================] - 0s 2ms/step - loss: 0.0270 - color_loss: 0.0192 - marker_loss: 0.0078 - color_accuracy: 0.9929 - marker_accuracy: 0.9962 - val_loss: 70.6642 - val_color_loss: 31.7859 - val_marker_loss: 38.8783 - val_color_accuracy: 0.1667 - val_marker_accuracy: 0.1667\n",
      "Epoch 86/100\n",
      "150/150 [==============================] - 0s 2ms/step - loss: 0.0326 - color_loss: 0.0222 - marker_loss: 0.0103 - color_accuracy: 0.9904 - marker_accuracy: 0.9948 - val_loss: 69.0042 - val_color_loss: 31.1138 - val_marker_loss: 37.8903 - val_color_accuracy: 0.1658 - val_marker_accuracy: 0.1667\n",
      "Epoch 87/100\n",
      "150/150 [==============================] - 0s 2ms/step - loss: 0.0316 - color_loss: 0.0227 - marker_loss: 0.0089 - color_accuracy: 0.9892 - marker_accuracy: 0.9958 - val_loss: 69.0077 - val_color_loss: 31.1014 - val_marker_loss: 37.9063 - val_color_accuracy: 0.1592 - val_marker_accuracy: 0.1667\n",
      "Epoch 88/100\n",
      "150/150 [==============================] - 0s 2ms/step - loss: 0.0383 - color_loss: 0.0269 - marker_loss: 0.0114 - color_accuracy: 0.9879 - marker_accuracy: 0.9944 - val_loss: 70.0683 - val_color_loss: 31.3414 - val_marker_loss: 38.7270 - val_color_accuracy: 0.1592 - val_marker_accuracy: 0.1667\n",
      "Epoch 89/100\n",
      "150/150 [==============================] - 0s 2ms/step - loss: 0.0284 - color_loss: 0.0220 - marker_loss: 0.0064 - color_accuracy: 0.9906 - marker_accuracy: 0.9975 - val_loss: 70.0748 - val_color_loss: 31.2403 - val_marker_loss: 38.8345 - val_color_accuracy: 0.1625 - val_marker_accuracy: 0.1667\n",
      "Epoch 90/100\n",
      "150/150 [==============================] - 0s 2ms/step - loss: 0.0269 - color_loss: 0.0196 - marker_loss: 0.0073 - color_accuracy: 0.9912 - marker_accuracy: 0.9965 - val_loss: 71.8005 - val_color_loss: 32.0342 - val_marker_loss: 39.7663 - val_color_accuracy: 0.1658 - val_marker_accuracy: 0.1667\n",
      "Epoch 91/100\n",
      "150/150 [==============================] - 0s 2ms/step - loss: 0.0253 - color_loss: 0.0185 - marker_loss: 0.0068 - color_accuracy: 0.9927 - marker_accuracy: 0.9975 - val_loss: 70.5502 - val_color_loss: 31.5710 - val_marker_loss: 38.9792 - val_color_accuracy: 0.1658 - val_marker_accuracy: 0.1667\n",
      "Epoch 92/100\n",
      "150/150 [==============================] - 0s 2ms/step - loss: 0.0395 - color_loss: 0.0289 - marker_loss: 0.0106 - color_accuracy: 0.9892 - marker_accuracy: 0.9960 - val_loss: 72.1249 - val_color_loss: 32.2467 - val_marker_loss: 39.8782 - val_color_accuracy: 0.1592 - val_marker_accuracy: 0.1667\n",
      "Epoch 93/100\n",
      "150/150 [==============================] - 0s 2ms/step - loss: 0.0483 - color_loss: 0.0342 - marker_loss: 0.0141 - color_accuracy: 0.9873 - marker_accuracy: 0.9950 - val_loss: 70.3506 - val_color_loss: 31.4110 - val_marker_loss: 38.9396 - val_color_accuracy: 0.1658 - val_marker_accuracy: 0.1667\n",
      "Epoch 94/100\n",
      "150/150 [==============================] - 0s 2ms/step - loss: 0.0304 - color_loss: 0.0224 - marker_loss: 0.0080 - color_accuracy: 0.9896 - marker_accuracy: 0.9958 - val_loss: 71.6327 - val_color_loss: 31.7365 - val_marker_loss: 39.8963 - val_color_accuracy: 0.1667 - val_marker_accuracy: 0.1667\n",
      "Epoch 95/100\n",
      "150/150 [==============================] - 0s 2ms/step - loss: 0.0278 - color_loss: 0.0206 - marker_loss: 0.0072 - color_accuracy: 0.9923 - marker_accuracy: 0.9977 - val_loss: 72.3067 - val_color_loss: 32.1324 - val_marker_loss: 40.1742 - val_color_accuracy: 0.1650 - val_marker_accuracy: 0.1667\n",
      "Epoch 96/100\n",
      "150/150 [==============================] - 0s 2ms/step - loss: 0.0328 - color_loss: 0.0248 - marker_loss: 0.0079 - color_accuracy: 0.9898 - marker_accuracy: 0.9965 - val_loss: 71.1461 - val_color_loss: 31.6086 - val_marker_loss: 39.5376 - val_color_accuracy: 0.1567 - val_marker_accuracy: 0.1667\n",
      "Epoch 97/100\n",
      "150/150 [==============================] - 0s 2ms/step - loss: 0.0327 - color_loss: 0.0238 - marker_loss: 0.0089 - color_accuracy: 0.9892 - marker_accuracy: 0.9954 - val_loss: 72.9765 - val_color_loss: 32.4162 - val_marker_loss: 40.5603 - val_color_accuracy: 0.1658 - val_marker_accuracy: 0.1667\n",
      "Epoch 98/100\n",
      "150/150 [==============================] - 0s 2ms/step - loss: 0.0263 - color_loss: 0.0194 - marker_loss: 0.0070 - color_accuracy: 0.9925 - marker_accuracy: 0.9971 - val_loss: 74.2411 - val_color_loss: 32.8006 - val_marker_loss: 41.4405 - val_color_accuracy: 0.1633 - val_marker_accuracy: 0.1658\n",
      "Epoch 99/100\n",
      "150/150 [==============================] - 0s 2ms/step - loss: 0.0344 - color_loss: 0.0244 - marker_loss: 0.0100 - color_accuracy: 0.9894 - marker_accuracy: 0.9960 - val_loss: 72.0832 - val_color_loss: 31.7713 - val_marker_loss: 40.3120 - val_color_accuracy: 0.1542 - val_marker_accuracy: 0.1667\n",
      "Epoch 100/100\n",
      "150/150 [==============================] - 0s 2ms/step - loss: 0.0379 - color_loss: 0.0296 - marker_loss: 0.0083 - color_accuracy: 0.9875 - marker_accuracy: 0.9965 - val_loss: 74.3243 - val_color_loss: 32.7502 - val_marker_loss: 41.5741 - val_color_accuracy: 0.1650 - val_marker_accuracy: 0.1667\n"
     ]
    },
    {
     "data": {
      "text/plain": [
       "<keras.callbacks.History at 0x235d8568730>"
      ]
     },
     "execution_count": 42,
     "metadata": {},
     "output_type": "execute_result"
    }
   ],
   "source": [
    "model4.fit(\n",
    "    x_train4,\n",
    "    {'color': color4, 'marker': marker4},\n",
    "    epochs=100,\n",
    "    batch_size=32,\n",
    "    validation_split=0.2\n",
    ")"
   ]
  },
  {
   "cell_type": "code",
   "execution_count": 43,
   "metadata": {},
   "outputs": [
    {
     "data": {
      "text/html": [
       "<div>\n",
       "<style scoped>\n",
       "    .dataframe tbody tr th:only-of-type {\n",
       "        vertical-align: middle;\n",
       "    }\n",
       "\n",
       "    .dataframe tbody tr th {\n",
       "        vertical-align: top;\n",
       "    }\n",
       "\n",
       "    .dataframe thead th {\n",
       "        text-align: right;\n",
       "    }\n",
       "</style>\n",
       "<table border=\"1\" class=\"dataframe\">\n",
       "  <thead>\n",
       "    <tr style=\"text-align: right;\">\n",
       "      <th></th>\n",
       "      <th>x</th>\n",
       "      <th>y</th>\n",
       "      <th>color</th>\n",
       "      <th>marker</th>\n",
       "    </tr>\n",
       "  </thead>\n",
       "  <tbody>\n",
       "    <tr>\n",
       "      <th>0</th>\n",
       "      <td>-0.129697</td>\n",
       "      <td>0.773598</td>\n",
       "      <td>red</td>\n",
       "      <td>^</td>\n",
       "    </tr>\n",
       "    <tr>\n",
       "      <th>1</th>\n",
       "      <td>0.341569</td>\n",
       "      <td>0.505299</td>\n",
       "      <td>red</td>\n",
       "      <td>^</td>\n",
       "    </tr>\n",
       "    <tr>\n",
       "      <th>2</th>\n",
       "      <td>0.168562</td>\n",
       "      <td>1.397924</td>\n",
       "      <td>red</td>\n",
       "      <td>^</td>\n",
       "    </tr>\n",
       "    <tr>\n",
       "      <th>3</th>\n",
       "      <td>-0.738458</td>\n",
       "      <td>0.097241</td>\n",
       "      <td>red</td>\n",
       "      <td>^</td>\n",
       "    </tr>\n",
       "    <tr>\n",
       "      <th>4</th>\n",
       "      <td>0.311101</td>\n",
       "      <td>1.669878</td>\n",
       "      <td>red</td>\n",
       "      <td>^</td>\n",
       "    </tr>\n",
       "  </tbody>\n",
       "</table>\n",
       "</div>"
      ],
      "text/plain": [
       "          x         y color marker\n",
       "0 -0.129697  0.773598   red      ^\n",
       "1  0.341569  0.505299   red      ^\n",
       "2  0.168562  1.397924   red      ^\n",
       "3 -0.738458  0.097241   red      ^\n",
       "4  0.311101  1.669878   red      ^"
      ]
     },
     "execution_count": 43,
     "metadata": {},
     "output_type": "execute_result"
    }
   ],
   "source": [
    "df_que4_test = pd.read_csv(\"test4.csv\")\n",
    "df_que4_test.head()"
   ]
  },
  {
   "cell_type": "code",
   "execution_count": 78,
   "metadata": {},
   "outputs": [],
   "source": [
    "x_test4 = df_que4_test[[\"x\", \"y\"]]\n",
    "color_test4 = df_que4_test[\"color\"]\n",
    "x_test4 = np.array(x_test4).reshape(-1,2)\n",
    "color_test4 = np.array(color_test4)\n",
    "marker_test4 = df_que4_test[\"marker\"]\n",
    "marker_test4 = np.array(marker_test4)"
   ]
  },
  {
   "cell_type": "code",
   "execution_count": 79,
   "metadata": {},
   "outputs": [
    {
     "name": "stdout",
     "output_type": "stream",
     "text": [
      "38/38 [==============================] - 0s 1ms/step\n"
     ]
    }
   ],
   "source": [
    "color_predictions, marker_predictions = model4.predict(df_que4_test[[\"x\",\"y\"]])"
   ]
  },
  {
   "cell_type": "code",
   "execution_count": 80,
   "metadata": {},
   "outputs": [],
   "source": [
    "predicted_colors = label_encoder_color.inverse_transform(np.argmax(color_predictions, axis=1))\n",
    "predicted_markers = label_encoder_marker.inverse_transform(np.argmax(marker_predictions, axis=1))"
   ]
  },
  {
   "cell_type": "code",
   "execution_count": 81,
   "metadata": {},
   "outputs": [],
   "source": [
    "predicted_colors = np.array(predicted_colors)\n",
    "predicted_markers = np.array(predicted_markers)"
   ]
  },
  {
   "cell_type": "code",
   "execution_count": 84,
   "metadata": {},
   "outputs": [
    {
     "data": {
      "text/plain": [
       "0.8233333333333334"
      ]
     },
     "execution_count": 84,
     "metadata": {},
     "output_type": "execute_result"
    }
   ],
   "source": [
    "balanced_accuracy_score(color_test4, predicted_colors)"
   ]
  },
  {
   "cell_type": "code",
   "execution_count": 85,
   "metadata": {},
   "outputs": [
    {
     "data": {
      "text/plain": [
       "0.6644444444444444"
      ]
     },
     "execution_count": 85,
     "metadata": {},
     "output_type": "execute_result"
    }
   ],
   "source": [
    "balanced_accuracy_score(marker_test4, predicted_markers)"
   ]
  }
 ],
 "metadata": {
  "kernelspec": {
   "display_name": "env",
   "language": "python",
   "name": "python3"
  },
  "language_info": {
   "codemirror_mode": {
    "name": "ipython",
    "version": 3
   },
   "file_extension": ".py",
   "mimetype": "text/x-python",
   "name": "python",
   "nbconvert_exporter": "python",
   "pygments_lexer": "ipython3",
   "version": "3.10.4"
  },
  "orig_nbformat": 4,
  "vscode": {
   "interpreter": {
    "hash": "77eaaf6dd9db1bbe16b8fee60875e20019b79d651a6b51b187401b09f3f0cca1"
   }
  }
 },
 "nbformat": 4,
 "nbformat_minor": 2
}
